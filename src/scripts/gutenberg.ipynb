{
 "cells": [
  {
   "cell_type": "code",
   "execution_count": 1,
   "metadata": {},
   "outputs": [],
   "source": [
    "%load_ext autoreload\n",
    "%autoreload 2"
   ]
  },
  {
   "cell_type": "code",
   "execution_count": 2,
   "metadata": {},
   "outputs": [],
   "source": [
    "from os.path import join as pjoin\n",
    "import sys\n",
    "\n",
    "sys.path.append('..')\n",
    "from tst.data.gutenberg import parse_metadata, parse_xml_metadata, copy_files\n",
    "from tst.io import GB_CD, GB_DOCS, AUTHORS"
   ]
  },
  {
   "cell_type": "code",
   "execution_count": 6,
   "metadata": {
    "scrolled": true
   },
   "outputs": [
    {
     "data": {
      "text/plain": [
       "Author\n",
       "Various                                           1937\n",
       "                                                   761\n",
       "Anonymous                                          517\n",
       "Shakespeare, William, 1564-1616                    257\n",
       "Lytton, Edward Bulwer Lytton, Baron, 1803-1873     212\n",
       "Ebers, Georg, 1837-1898                            164\n",
       "Twain, Mark, 1835-1910                             154\n",
       "Parker, Gilbert, 1862-1932                         133\n",
       "Balzac, Honoré de, 1799-1850                       123\n",
       "Unknown                                            115\n",
       "Kingston, William Henry Giles, 1814-1880           114\n",
       "Jacobs, W. W. (William Wymark), 1863-1943          111\n",
       "Meredith, George, 1828-1909                        109\n",
       "Verne, Jules, 1828-1905                            104\n",
       "Motley, John Lothrop, 1814-1877                    103\n",
       "Howells, William Dean, 1837-1920                   100\n",
       "Ballantyne, R. M. (Robert Michael), 1825-1894       98\n",
       "Dickens, Charles, 1812-1870                         92\n",
       "Hawthorne, Nathaniel, 1804-1864                     89\n",
       "Pepys, Samuel, 1633-1703                            87\n",
       "Dumas père, Alexandre, 1802-1870                    85\n",
       "Fenn, George Manville, 1831-1909                    83\n",
       "Stevenson, Robert Louis, 1850-1894                  76\n",
       "Henty, G. A. (George Alfred), 1832-1902             76\n",
       "Trollope, Anthony, 1815-1882                        69\n",
       "James, Henry, 1843-1916                             67\n",
       "MacDonald, George, 1824-1905                        66\n",
       "Doyle, Arthur Conan, Sir, 1859-1930                 65\n",
       "Lang, Andrew, 1844-1912                             64\n",
       "Churchill, Winston, 1871-1947                       64\n",
       "                                                  ... \n",
       "McIntyre, John T.                                    1\n",
       "McIntosh, Maria J. (Maria Jane), 1803-1878           1\n",
       "McConnel, J. L.                                      1\n",
       "McConnell, Francis John, 1871-1953                   1\n",
       "McConnell, James R. (James Rogers), 1887-1917        1\n",
       "McConnell, James V., 1925-1990                       1\n",
       "McCormack, Mary A.                                   1\n",
       "McCracken, Elizabeth                                 1\n",
       "McCrae, John, 1872-1918                              1\n",
       "McCulloch-Williams, Martha, 1857?-                   1\n",
       "McCutcheon, John T., 1870-1949                       1\n",
       "McDonnell, Michael F. J.                             1\n",
       "McDougall, Henriette, 1817-1886                      1\n",
       "McFadden, Elizabeth Apthorp                          1\n",
       "McFadyen, John Edgar                                 1\n",
       "McFarland, J. Horace (John Horace), 1859-1948        1\n",
       "McFee, William, 1881-1966                            1\n",
       "McFeeters, J. C.                                     1\n",
       "McGaffey, Kenneth                                    1\n",
       "McGaw, Virginia                                      1\n",
       "McGee, W. J. (William John), 1853-1912               1\n",
       "McGibeny, Donald                                     1\n",
       "McGlashan, C. F. (Charles Fayette)                   1\n",
       "McGovern, John                                       1\n",
       "McGovern, John, 1850-1917                            1\n",
       "McGowan, Richard, 1958-                              1\n",
       "McGregor, Duncan, 1787-1881                          1\n",
       "McHarry, Samuel                                      1\n",
       "McIlwraith, Jean N. (Jean Newton), 1859-1938         1\n",
       "King, Alfred Castner                                 1\n",
       "Name: Title, Length: 9813, dtype: int64"
      ]
     },
     "execution_count": 6,
     "metadata": {},
     "output_type": "execute_result"
    }
   ],
   "source": [
    "metadf = parse_metadata(GB_CD)\n",
    "metadf.groupby(\"Author\").count()[\"Title\"].sort_values(ascending=False)"
   ]
  },
  {
   "cell_type": "code",
   "execution_count": 3,
   "metadata": {
    "scrolled": true
   },
   "outputs": [
    {
     "data": {
      "text/plain": [
       "author_fullname\n",
       "Various                                        925\n",
       "                                               554\n",
       "Anonymous                                      350\n",
       "Baron Edward Bulwer Lytton Lytton              209\n",
       "Georg Ebers                                    163\n",
       "Mark Twain                                     141\n",
       "Gilbert Parker                                 125\n",
       "William Henry Giles Kingston                   112\n",
       "HonorÃ© de Balzac                              111\n",
       "W. W. (William Wymark) Jacobs                  110\n",
       "George Meredith                                104\n",
       "John Lothrop Motley                            103\n",
       "R. M. (Robert Michael) Ballantyne               98\n",
       "Samuel Pepys                                    87\n",
       "William Dean Howells                            87\n",
       "Nathaniel Hawthorne                             87\n",
       "George Manville Fenn                            83\n",
       "G. A. (George Alfred) Henty                     76\n",
       "Anthony Trollope                                69\n",
       "Henry James                                     67\n",
       "Winston Churchill                               67\n",
       "Laura Lee Hope                                  63\n",
       "Unknown                                         62\n",
       "Charlotte Mary Yonge                            61\n",
       "Charles Dickens                                 61\n",
       "George MacDonald                                57\n",
       "Horatio Alger                                   56\n",
       "Henry Rider Haggard                             54\n",
       "Bret Harte                                      54\n",
       "Charles Dudley Warner                           53\n",
       "                                              ... \n",
       "Lady Anne Harrison Fanshawe                      1\n",
       "Lady Biddulph of Ledbury                         1\n",
       "Lady Charlotte Campbell Bury                     1\n",
       "Lady Damaris Cudworth Masham                     1\n",
       "Lady Florence Eveleen Eleanore Olliffe Bell      1\n",
       "L. H. (Lell Hawley) Woolley                      1\n",
       "L. E. (Lucius Eugene) Chittenden                 1\n",
       "Katie Spalding                                   1\n",
       "Kenyon L. (Kenyon Leech) Butterfield             1\n",
       "Keene Abbott                                     1\n",
       "Keith Henderson                                  1\n",
       "Kelly Miller                                     1\n",
       "Kenelm Digby                                     1\n",
       "Kenneth Harmon                                   1\n",
       "Kenneth McGaffey                                 1\n",
       "Kenneth Morris                                   1\n",
       "Kenneth Ward                                     1\n",
       "Kenyon Cox                                       1\n",
       "Kermit Roosevelt                                 1\n",
       "L. A. Abbott                                     1\n",
       "Kevin Scott                                      1\n",
       "Khalil Gibran                                    1\n",
       "King of the Hawaiian Islands Kamehameha IV       1\n",
       "Kirk Monroe                                      1\n",
       "Kirsopp Lake                                     1\n",
       "Knowles King                                     1\n",
       "Konstantin Aleksandrovich Inostrantzev           1\n",
       "Kristina Royova                                  1\n",
       "L. (Lizzy) Lind-af-Hageby                        1\n",
       "James H. (James Hiram) Fassett                   1\n",
       "Name: title, Length: 7451, dtype: int64"
      ]
     },
     "execution_count": 3,
     "metadata": {},
     "output_type": "execute_result"
    }
   ],
   "source": [
    "metadf = parse_xml_metadata(GB_DOCS)\n",
    "counts = metadf.groupby(\"author_fullname\").size().sort_values(ascending=False)\n",
    "counts"
   ]
  },
  {
   "cell_type": "code",
   "execution_count": 18,
   "metadata": {},
   "outputs": [],
   "source": [
    "metadf['path'] = metadf.path.str.replace('\\\\', '/').str.replace('.*/', '')"
   ]
  },
  {
   "cell_type": "code",
   "execution_count": 21,
   "metadata": {},
   "outputs": [],
   "source": [
    "author = 'Churchill'\n",
    "selection = metadf[metadf[\"author_lastname\"] == author]\n",
    "copy_files(selection, GB_DOCS, pjoin(AUTHORS, author, 'books'))"
   ]
  },
  {
   "cell_type": "code",
   "execution_count": 30,
   "metadata": {},
   "outputs": [
    {
     "data": {
      "text/plain": [
       "Index(['Various', '', 'Anonymous', 'Baron Edward Bulwer Lytton Lytton',\n",
       "       'Georg Ebers', 'Mark Twain', 'Gilbert Parker',\n",
       "       'William Henry Giles Kingston', 'HonorÃ© de Balzac',\n",
       "       'W. W. (William Wymark) Jacobs',\n",
       "       ...\n",
       "       'Kevin Scott', 'Khalil Gibran',\n",
       "       'King of the Hawaiian Islands Kamehameha IV', 'Kirk Monroe',\n",
       "       'Kirsopp Lake', 'Knowles King',\n",
       "       'Konstantin Aleksandrovich Inostrantzev', 'Kristina Royova',\n",
       "       'L. (Lizzy) Lind-af-Hageby', 'James H. (James Hiram) Fassett'],\n",
       "      dtype='object', name='author_fullname', length=7451)"
      ]
     },
     "execution_count": 30,
     "metadata": {},
     "output_type": "execute_result"
    }
   ],
   "source": [
    "counts.index.str."
   ]
  },
  {
   "cell_type": "code",
   "execution_count": 29,
   "metadata": {},
   "outputs": [
    {
     "data": {
      "text/plain": [
       "author_fullname\n",
       "Various                                        925\n",
       "                                               554\n",
       "Anonymous                                      350\n",
       "Baron Edward Bulwer Lytton Lytton              209\n",
       "Georg Ebers                                    163\n",
       "Mark Twain                                     141\n",
       "Gilbert Parker                                 125\n",
       "William Henry Giles Kingston                   112\n",
       "HonorÃ© de Balzac                              111\n",
       "W. W. (William Wymark) Jacobs                  110\n",
       "George Meredith                                104\n",
       "John Lothrop Motley                            103\n",
       "R. M. (Robert Michael) Ballantyne               98\n",
       "Samuel Pepys                                    87\n",
       "William Dean Howells                            87\n",
       "Nathaniel Hawthorne                             87\n",
       "George Manville Fenn                            83\n",
       "G. A. (George Alfred) Henty                     76\n",
       "Anthony Trollope                                69\n",
       "Henry James                                     67\n",
       "Winston Churchill                               67\n",
       "Laura Lee Hope                                  63\n",
       "Unknown                                         62\n",
       "Charlotte Mary Yonge                            61\n",
       "Charles Dickens                                 61\n",
       "George MacDonald                                57\n",
       "Horatio Alger                                   56\n",
       "Henry Rider Haggard                             54\n",
       "Bret Harte                                      54\n",
       "Charles Dudley Warner                           53\n",
       "                                              ... \n",
       "Lady Anne Harrison Fanshawe                      1\n",
       "Lady Biddulph of Ledbury                         1\n",
       "Lady Charlotte Campbell Bury                     1\n",
       "Lady Damaris Cudworth Masham                     1\n",
       "Lady Florence Eveleen Eleanore Olliffe Bell      1\n",
       "L. H. (Lell Hawley) Woolley                      1\n",
       "L. E. (Lucius Eugene) Chittenden                 1\n",
       "Katie Spalding                                   1\n",
       "Kenyon L. (Kenyon Leech) Butterfield             1\n",
       "Keene Abbott                                     1\n",
       "Keith Henderson                                  1\n",
       "Kelly Miller                                     1\n",
       "Kenelm Digby                                     1\n",
       "Kenneth Harmon                                   1\n",
       "Kenneth McGaffey                                 1\n",
       "Kenneth Morris                                   1\n",
       "Kenneth Ward                                     1\n",
       "Kenyon Cox                                       1\n",
       "Kermit Roosevelt                                 1\n",
       "L. A. Abbott                                     1\n",
       "Kevin Scott                                      1\n",
       "Khalil Gibran                                    1\n",
       "King of the Hawaiian Islands Kamehameha IV       1\n",
       "Kirk Monroe                                      1\n",
       "Kirsopp Lake                                     1\n",
       "Knowles King                                     1\n",
       "Konstantin Aleksandrovich Inostrantzev           1\n",
       "Kristina Royova                                  1\n",
       "L. (Lizzy) Lind-af-Hageby                        1\n",
       "James H. (James Hiram) Fassett                   1\n",
       "Length: 7451, dtype: int64"
      ]
     },
     "execution_count": 29,
     "metadata": {},
     "output_type": "execute_result"
    }
   ],
   "source": [
    "counts[]"
   ]
  }
 ],
 "metadata": {
  "kernelspec": {
   "display_name": "Python 3",
   "language": "python",
   "name": "python3"
  },
  "language_info": {
   "codemirror_mode": {
    "name": "ipython",
    "version": 3
   },
   "file_extension": ".py",
   "mimetype": "text/x-python",
   "name": "python",
   "nbconvert_exporter": "python",
   "pygments_lexer": "ipython3",
   "version": "3.6.8"
  },
  "pycharm": {
   "stem_cell": {
    "cell_type": "raw",
    "metadata": {
     "collapsed": false
    },
    "source": []
   }
  }
 },
 "nbformat": 4,
 "nbformat_minor": 2
}
