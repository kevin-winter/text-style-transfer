{
 "cells": [
  {
   "cell_type": "code",
   "execution_count": 11,
   "metadata": {},
   "outputs": [],
   "source": [
    "%%capture\n",
    "\n",
    "import pickle as pkl\n",
    "from sklearn.pipeline import Pipeline\n",
    "from scipy.sparse.csr import csr_matrix\n",
    "\n",
    "from tst.preprocess.transformers import TextCleaner, TextFeatureExtractor, OneHotEncoder, apply_pipeline, TextParser, load_text\n",
    "from tst.preprocess.corpus_helper import CorpusStreamer\n",
    "from tst.preprocess.helper import init_config\n",
    "init_config()"
   ]
  },
  {
   "cell_type": "code",
   "execution_count": 10,
   "metadata": {},
   "outputs": [],
   "source": [
    "class PosTagger(Pipeline):\n",
    "    def __init__(self):\n",
    "        super().__init__([\n",
    "            (\"TextCleaner\",TextCleaner()),\n",
    "            (\"TextFeatureExtractor\", TextFeatureExtractor(lambda x: x.pos_)),\n",
    "            (\"OneHotEncoder\", OneHotEncoder(handle_unknown=\"ignore\"))\n",
    "        ])"
   ]
  },
  {
   "cell_type": "code",
   "execution_count": null,
   "metadata": {
    "scrolled": true
   },
   "outputs": [],
   "source": [
    "%%time\n",
    "author = \"chesterton\"\n",
    "s = CorpusStreamer(\"../DataAcquisition/data/{}\".format(author)).toString()\n",
    "\n",
    "with open(\"../DataAcquisition/data/{0}/{0}_string.pkl\".format(author), \"wb\") as f:\n",
    "    pkl.dump(s, f)"
   ]
  },
  {
   "cell_type": "code",
   "execution_count": null,
   "metadata": {
    "scrolled": true
   },
   "outputs": [],
   "source": [
    "%%time\n",
    "features = apply_pipeline(s, TextParser(), 10**6)\n",
    "\n",
    "with open(\"../DataAcquisition/data/{0}/{0}_features.pkl\".format(author), \"wb\") as f:\n",
    "    pkl.dump(features, f)"
   ]
  },
  {
   "cell_type": "code",
   "execution_count": 13,
   "metadata": {},
   "outputs": [
    {
     "name": "stdout",
     "output_type": "stream",
     "text": [
      "Wall time: 3min 48s\n"
     ]
    }
   ],
   "source": [
    "## only POS Tagging\n",
    "\n",
    "%%time\n",
    "author = \"chesterton\"\n",
    "features = apply_pipeline(load_text(author), PosTagger(), 10**6)#"
   ]
  },
  {
   "cell_type": "code",
   "execution_count": 14,
   "metadata": {},
   "outputs": [],
   "source": [
    "features.drop(columns=[15], inplace=True)\n",
    "sparse = csr_matrix(features)\n",
    "with open(\"../DataAcquisition/data/{0}/{0}_pos_sparse.pkl\".format(author), \"wb\") as f:\n",
    "    pkl.dump(sparse, f)"
   ]
  },
  {
   "cell_type": "code",
   "execution_count": 5,
   "metadata": {},
   "outputs": [],
   "source": [
    "with open(\"../DataAcquisition/data/{0}/{0}_pos.pkl\".format(author), \"rb\") as f:\n",
    "    features = pkl.load(f)"
   ]
  },
  {
   "cell_type": "code",
   "execution_count": 6,
   "metadata": {},
   "outputs": [],
   "source": []
  }
 ],
 "metadata": {
  "kernelspec": {
   "display_name": "Python 3",
   "language": "python",
   "name": "python3"
  },
  "language_info": {
   "codemirror_mode": {
    "name": "ipython",
    "version": 3
   },
   "file_extension": ".py",
   "mimetype": "text/x-python",
   "name": "python",
   "nbconvert_exporter": "python",
   "pygments_lexer": "ipython3",
   "version": "3.6.8"
  },
  "pycharm": {
   "stem_cell": {
    "cell_type": "raw",
    "source": [],
    "metadata": {
     "collapsed": false
    }
   }
  }
 },
 "nbformat": 4,
 "nbformat_minor": 2
}