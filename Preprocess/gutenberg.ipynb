{
 "cells": [
  {
   "cell_type": "code",
   "execution_count": null,
   "metadata": {
    "collapsed": true
   },
   "outputs": [],
   "source": [
    "!python3 -m pip install spacy\n",
    "!python3 -m spacy download en\n",
    "!python3 -m pip install gensim\n",
    "!python3 -m pip install forbiddenfruit"
   ]
  },
  {
   "cell_type": "code",
   "execution_count": 2,
   "metadata": {
    "collapsed": true
   },
   "outputs": [],
   "source": [
    "# Path to mounted Gutenberg DVD.\n",
    "gb_path = \"/Volumes/PGDVD_2010_04_RC2\""
   ]
  },
  {
   "cell_type": "code",
   "execution_count": 4,
   "metadata": {
    "scrolled": true
   },
   "outputs": [
    {
     "data": {
      "text/plain": [
       "Author\n",
       "Various                                           1937\n",
       "                                                   761\n",
       "Anonymous                                          517\n",
       "Shakespeare, William, 1564-1616                    257\n",
       "Lytton, Edward Bulwer Lytton, Baron, 1803-1873     212\n",
       "Ebers, Georg, 1837-1898                            164\n",
       "Twain, Mark, 1835-1910                             154\n",
       "Parker, Gilbert, 1862-1932                         133\n",
       "Balzac, Honoré de, 1799-1850                       123\n",
       "Unknown                                            115\n",
       "Kingston, William Henry Giles, 1814-1880           114\n",
       "Jacobs, W. W. (William Wymark), 1863-1943          111\n",
       "Meredith, George, 1828-1909                        109\n",
       "Verne, Jules, 1828-1905                            104\n",
       "Motley, John Lothrop, 1814-1877                    103\n",
       "Howells, William Dean, 1837-1920                   100\n",
       "Ballantyne, R. M. (Robert Michael), 1825-1894       98\n",
       "Dickens, Charles, 1812-1870                         92\n",
       "Hawthorne, Nathaniel, 1804-1864                     89\n",
       "Pepys, Samuel, 1633-1703                            87\n",
       "Dumas père, Alexandre, 1802-1870                    85\n",
       "Fenn, George Manville, 1831-1909                    83\n",
       "Stevenson, Robert Louis, 1850-1894                  76\n",
       "Henty, G. A. (George Alfred), 1832-1902             76\n",
       "Trollope, Anthony, 1815-1882                        69\n",
       "James, Henry, 1843-1916                             67\n",
       "MacDonald, George, 1824-1905                        66\n",
       "Doyle, Arthur Conan, Sir, 1859-1930                 65\n",
       "Lang, Andrew, 1844-1912                             64\n",
       "Churchill, Winston, 1871-1947                       64\n",
       "                                                  ... \n",
       "McIntyre, John T.                                    1\n",
       "McIntosh, Maria J. (Maria Jane), 1803-1878           1\n",
       "McConnel, J. L.                                      1\n",
       "McConnell, Francis John, 1871-1953                   1\n",
       "McConnell, James R. (James Rogers), 1887-1917        1\n",
       "McConnell, James V., 1925-1990                       1\n",
       "McCormack, Mary A.                                   1\n",
       "McCracken, Elizabeth                                 1\n",
       "McCrae, John, 1872-1918                              1\n",
       "McCulloch-Williams, Martha, 1857?-                   1\n",
       "McCutcheon, John T., 1870-1949                       1\n",
       "McDonnell, Michael F. J.                             1\n",
       "McDougall, Henriette, 1817-1886                      1\n",
       "McFadden, Elizabeth Apthorp                          1\n",
       "McFadyen, John Edgar                                 1\n",
       "McFarland, J. Horace (John Horace), 1859-1948        1\n",
       "McFee, William, 1881-1966                            1\n",
       "McFeeters, J. C.                                     1\n",
       "McGaffey, Kenneth                                    1\n",
       "McGaw, Virginia                                      1\n",
       "McGee, W. J. (William John), 1853-1912               1\n",
       "McGibeny, Donald                                     1\n",
       "McGlashan, C. F. (Charles Fayette)                   1\n",
       "McGovern, John                                       1\n",
       "McGovern, John, 1850-1917                            1\n",
       "McGowan, Richard, 1958-                              1\n",
       "McGregor, Duncan, 1787-1881                          1\n",
       "McHarry, Samuel                                      1\n",
       "McIlwraith, Jean N. (Jean Newton), 1859-1938         1\n",
       "King, Alfred Castner                                 1\n",
       "Name: Title, dtype: int64"
      ]
     },
     "execution_count": 4,
     "metadata": {},
     "output_type": "execute_result"
    }
   ],
   "source": [
    "metadf = parse_metadata(gb_path)\n",
    "metadf.groupby(\"Author\").count()[\"Title\"].sort_values(ascending=False)"
   ]
  },
  {
   "cell_type": "code",
   "execution_count": 30,
   "metadata": {
    "collapsed": true
   },
   "outputs": [
    {
     "name": "stdout",
     "output_type": "stream",
     "text": [
      "Loading EText 10446: 'The Green Flag' by Doyle, Arthur Conan, Sir, 1859-1930\n",
      "Loading EText 10581: 'Uncle Bernac\n",
      "A Memory of the Empire' by Doyle, Arthur Conan, Sir, 1859-1930\n",
      "Loading EText 108: 'The Return of Sherlock Holmes' by Doyle, Arthur Conan, Sir, 1859-1930\n",
      "Loading EText 11247: 'The Exploits of Brigadier Gerard' by Doyle, Arthur Conan, Sir, 1859-1930\n",
      "Loading EText 11413: 'The Refugees' by Doyle, Arthur Conan, Sir, 1859-1930\n",
      "Loading EText 11656: 'The Great Shadow and Other Napoleonic Tales' by Doyle, Arthur Conan, Sir, 1859-1930\n",
      "Loading EText 12555: 'The Tragedy of the Korosko' by Doyle, Arthur Conan, Sir, 1859-1930\n",
      "Loading EText 126: 'The Poison Belt' by Doyle, Arthur Conan, Sir, 1859-1930\n",
      "Loading EText 13152: 'The Firm of Girdlestone' by Doyle, Arthur Conan, Sir, 1859-1930\n",
      "Loading EText 139: 'The Lost World' by Doyle, Arthur Conan, Sir, 1859-1930\n",
      "Loading EText 1638: 'The New Revelation' by Doyle, Arthur Conan, Sir, 1859-1930\n",
      "Loading EText 1644: 'The Adventures of Gerard' by Doyle, Arthur Conan, Sir, 1859-1930\n",
      "Loading EText 1661: 'The Adventures of Sherlock Holmes' by Doyle, Arthur Conan, Sir, 1859-1930\n",
      "Loading EText 17398: 'The Cabman's Story\n",
      "The Mysteries of a London 'Growler'' by Doyle, Arthur Conan, Sir, 1859-1930\n",
      "Loading EText 20174: 'Freedom, Truth and Beauty' by Doyle, Edward, 1854-\n",
      "Loading EText 2097: 'The Sign of the Four' by Doyle, Arthur Conan, Sir, 1859-1930\n",
      "Loading EText 21768: 'A Desert Drama\n",
      "Being The Tragedy Of The \"Korosko\"' by Doyle, Arthur Conan, Sir, 1859-1930\n",
      "Loading EText 21769: 'Songs Of The Road' by Doyle, Arthur Conan, Sir, 1859-1930\n",
      "Loading EText 221: 'The Return of Sherlock Holmes' by Doyle, Arthur Conan, Sir, 1859-1930\n",
      "Loading EText 22357: 'Danger! and Other Stories' by Doyle, Arthur Conan, Sir, 1859-1930\n",
      "Loading EText 23059: 'My Friend The Murderer' by Doyle, Arthur Conan, Sir, 1859-1930\n",
      "Loading EText 2343: 'The Adventure of Wisteria Lodge' by Doyle, Arthur Conan, Sir, 1859-1930\n",
      "Loading EText 2344: 'The Adventure of the Cardboard Box' by Doyle, Arthur Conan, Sir, 1859-1930\n",
      "Loading EText 2345: 'The Adventure of the Red Circle' by Doyle, Arthur Conan, Sir, 1859-1930\n",
      "Loading EText 2346: 'The Adventure of the Bruce-Partington Plans' by Doyle, Arthur Conan, Sir, 1859-1930\n",
      "Loading EText 2347: 'The Adventure of the Dying Detective' by Doyle, Arthur Conan, Sir, 1859-1930\n",
      "Loading EText 2348: 'The Disappearance of Lady Frances Carfax' by Doyle, Arthur Conan, Sir, 1859-1930\n",
      "Loading EText 2349: 'The Adventure of the Devil's Foot' by Doyle, Arthur Conan, Sir, 1859-1930\n",
      "Loading EText 2350: 'His Last Bow' by Doyle, Arthur Conan, Sir, 1859-1930\n",
      "Loading EText 244: 'A Study in Scarlet' by Doyle, Arthur Conan, Sir, 1859-1930\n",
      "Loading EText 24951: 'The War in South Africa\n",
      "Its Cause and Conduct' by Doyle, Arthur Conan, Sir, 1859-1930\n",
      "Loading EText 26153: 'The Last of the Legions and Other Tales of Long Ago' by Doyle, Arthur Conan, Sir, 1859-1930\n",
      "Loading EText 2845: 'Sir Nigel' by Doyle, Arthur Conan, Sir, 1859-1930\n",
      "Loading EText 2852: 'The Hound of the Baskervilles' by Doyle, Arthur Conan, Sir, 1859-1930\n",
      "Loading EText 290: 'The Stark Munro Letters' by Doyle, Arthur Conan, Sir, 1859-1930\n",
      "Loading EText 294: 'The Captain of the Polestar' by Doyle, Arthur Conan, Sir, 1859-1930\n",
      "Loading EText 29463: 'The Foreign Tour of Messrs. Brown, Jones and Robinson\n",
      "Being the History of What They Saw, and Did, in Belgium,\n",
      "Germany, Switzerland & Italy.' by Doyle, Richard, 1824-1883\n",
      "Loading EText 3069: 'The Great Boer War' by Doyle, Arthur Conan, Sir, 1859-1930\n",
      "Loading EText 3070: 'The Hound of the Baskervilles' by Doyle, Arthur Conan, Sir, 1859-1930\n",
      "Loading EText 3289: 'The Valley of Fear' by Doyle, Arthur Conan, Sir, 1859-1930\n",
      "Loading EText 355: 'The Parasite' by Doyle, Arthur Conan, Sir, 1859-1930\n",
      "Loading EText 356: 'Beyond the City' by Doyle, Arthur Conan, Sir, 1859-1930\n",
      "Loading EText 3776: 'The Valley of Fear' by Doyle, Arthur Conan, Sir, 1859-1930\n",
      "Loading EText 423: 'Round the Red Lamp' by Doyle, Arthur Conan, Sir, 1859-1930\n",
      "Loading EText 4295: 'Songs of Action' by Doyle, Arthur Conan, Sir, 1859-1930\n",
      "Loading EText 439: 'The Vital Message' by Doyle, Arthur Conan, Sir, 1859-1930\n",
      "Loading EText 5148: 'Rodney Stone' by Doyle, Arthur Conan, Sir, 1859-1930\n",
      "Loading EText 5260: 'A Duet, with an Occasional Chorus' by Doyle, Arthur Conan, Sir, 1859-1930\n",
      "Loading EText 5317: 'Through the Magic Door' by Doyle, Arthur Conan, Sir, 1859-1930\n",
      "Loading EText 537: 'Tales of Terror and Mystery' by Doyle, Arthur Conan, Sir, 1859-1930\n",
      "Loading EText 7964: 'The Mystery of Cloomber' by Doyle, Arthur Conan, Sir, 1859-1930\n",
      "Loading EText 834: 'The Memoirs of Sherlock Holmes' by Doyle, Arthur Conan, Sir, 1859-1930\n",
      "Loading EText 8394: 'The Doings of Raffles Haw' by Doyle, Arthur Conan, Sir, 1859-1930\n",
      "Loading EText 8727: 'The Last Galley\n",
      "Impressions and Tales' by Doyle, Arthur Conan, Sir, 1859-1930\n",
      "Loading EText 903: 'The White Company' by Doyle, Arthur Conan, Sir, 1859-1930\n",
      "Loading EText 9504: 'Micah Clarke\n",
      "His Statement as made to his three grandchildren Joseph,\n",
      "Gervas and Reuben During the Hard Winter of 1734' by Doyle, Arthur Conan, Sir, 1859-1930\n",
      "Loading EText 9874: 'A Visit to Three Fronts\n",
      "June 1916' by Doyle, Arthur Conan, Sir, 1859-1930\n"
     ]
    }
   ],
   "source": [
    "selected = filter_meta(metadf,author=\"Doyle\")\n",
    "txts = get_texts(selected, path=gb_path)"
   ]
  },
  {
   "cell_type": "code",
   "execution_count": 1,
   "metadata": {},
   "outputs": [],
   "source": [
    "w2v_scores = {'capital-common-countries': 0.2490118577075099,\n",
    " 'capital-world': 0.05106100795755968,\n",
    " 'currency': 0.010392609699769052,\n",
    " 'city-in-state': 0.08519793459552495,\n",
    " 'family': 0.6126482213438735,\n",
    " 'gram1-adjective-to-adverb': 0.29536290322580644,\n",
    " 'gram2-opposite': 0.17364532019704434,\n",
    " 'gram3-comparative': 0.8911411411411412,\n",
    " 'gram4-superlative': 0.6729055258467023,\n",
    " 'gram5-present-participle': 0.553030303030303,\n",
    " 'gram6-nationality-adjective': 0.28267667292057536,\n",
    " 'gram7-past-tense': 0.6230769230769231,\n",
    " 'gram8-plural': 0.753003003003003,\n",
    " 'gram9-plural-verbs': 0.542528735632184,\n",
    " 'Total accuracy': 0.34704396680583477}"
   ]
  }
 ],
 "metadata": {
  "kernelspec": {
   "display_name": "Python 3",
   "language": "python",
   "name": "python3"
  },
  "language_info": {
   "codemirror_mode": {
    "name": "ipython",
    "version": 3
   },
   "file_extension": ".py",
   "mimetype": "text/x-python",
   "name": "python",
   "nbconvert_exporter": "python",
   "pygments_lexer": "ipython3",
   "version": "3.6.0"
  }
 },
 "nbformat": 4,
 "nbformat_minor": 2
}
