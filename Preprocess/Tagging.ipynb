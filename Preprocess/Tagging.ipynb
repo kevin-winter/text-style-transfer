{
 "cells": [
  {
   "cell_type": "code",
   "execution_count": 1,
   "metadata": {},
   "outputs": [
    {
     "name": "stderr",
     "output_type": "stream",
     "text": [
      "c:\\users\\kevin\\appdata\\local\\programs\\python\\python36\\lib\\site-packages\\gensim\\utils.py:1209: UserWarning: detected Windows; aliasing chunkize to chunkize_serial\n",
      "  warnings.warn(\"detected Windows; aliasing chunkize to chunkize_serial\")\n"
     ]
    },
    {
     "name": "stdout",
     "output_type": "stream",
     "text": [
      "[nltk_data] Downloading package punkt to\n",
      "[nltk_data]     C:\\Users\\kevin\\AppData\\Roaming\\nltk_data...\n",
      "[nltk_data]   Package punkt is already up-to-date!\n"
     ]
    }
   ],
   "source": [
    "import os\n",
    "from gensim.models import Word2Vec\n",
    "\n",
    "from helper import *\n",
    "from CorpusStreamer import *\n",
    "\n",
    "configure_logging()"
   ]
  },
  {
   "cell_type": "code",
   "execution_count": 69,
   "metadata": {},
   "outputs": [
    {
     "name": "stdout",
     "output_type": "stream",
     "text": [
      "2018-10-20 23:02:03,448:INFO:loading Word2Vec object from ../models/gutenberg_w2v.model\n",
      "2018-10-20 23:02:08,687:INFO:loading wv recursively from ../models/gutenberg_w2v.model.wv.* with mmap=None\n",
      "2018-10-20 23:02:08,687:INFO:loading vectors from ../models/gutenberg_w2v.model.wv.vectors.npy with mmap=None\n",
      "2018-10-20 23:02:09,196:INFO:setting ignored attribute vectors_norm to None\n",
      "2018-10-20 23:02:09,196:INFO:loading vocabulary recursively from ../models/gutenberg_w2v.model.vocabulary.* with mmap=None\n",
      "2018-10-20 23:02:09,196:INFO:loading trainables recursively from ../models/gutenberg_w2v.model.trainables.* with mmap=None\n",
      "2018-10-20 23:02:09,196:INFO:loading syn1neg from ../models/gutenberg_w2v.model.trainables.syn1neg.npy with mmap=None\n",
      "2018-10-20 23:02:09,705:INFO:setting ignored attribute cum_table to None\n",
      "2018-10-20 23:02:09,705:INFO:loaded ../models/gutenberg_w2v.model\n"
     ]
    }
   ],
   "source": [
    "w2v = Word2Vec.load(\"../models/gutenberg_w2v.model\")"
   ]
  },
  {
   "cell_type": "code",
   "execution_count": 216,
   "metadata": {},
   "outputs": [],
   "source": [
    "def text_pipeline(txt):\n",
    "    txt = clean_txt(txt)\n",
    "    txt = mask_named_entities(txt, [\"PERSON\"], maskwith=\"person\")\n",
    "    tags = get_tags(txt.lower())\n",
    "    vecs = w2v_word_mapper(tags[0])\n",
    "    encoded_tags = np.array([as_ints(feature) for feature in tags[1:]])\n",
    "    return np.hstack((vecs ,encoded_tags.T))"
   ]
  },
  {
   "cell_type": "code",
   "execution_count": 219,
   "metadata": {},
   "outputs": [],
   "source": [
    "x = text_pipeline(cfh.read(False)) "
   ]
  }
 ],
 "metadata": {
  "kernelspec": {
   "display_name": "Python 3",
   "language": "python",
   "name": "python3"
  },
  "language_info": {
   "codemirror_mode": {
    "name": "ipython",
    "version": 3
   },
   "file_extension": ".py",
   "mimetype": "text/x-python",
   "name": "python",
   "nbconvert_exporter": "python",
   "pygments_lexer": "ipython3",
   "version": "3.6.0"
  }
 },
 "nbformat": 4,
 "nbformat_minor": 2
}
