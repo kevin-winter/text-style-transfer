{
 "cells": [
  {
   "cell_type": "code",
   "execution_count": 46,
   "metadata": {},
   "outputs": [],
   "source": [
    "from gutenberg import *\n",
    "import pandas as pd"
   ]
  },
  {
   "cell_type": "code",
   "execution_count": 136,
   "metadata": {},
   "outputs": [],
   "source": [
    "gb_path = \"/Volumes/PGDVD_2010_04_RC2\"\n",
    "xml_path = \"C:/Users/kevin/Downloads/GutenTag-master/GutenTag-master/out2\""
   ]
  },
  {
   "cell_type": "code",
   "execution_count": 4,
   "metadata": {
    "scrolled": true
   },
   "outputs": [
    {
     "data": {
      "text/plain": [
       "Author\n",
       "Various                                           1937\n",
       "                                                   761\n",
       "Anonymous                                          517\n",
       "Shakespeare, William, 1564-1616                    257\n",
       "Lytton, Edward Bulwer Lytton, Baron, 1803-1873     212\n",
       "Ebers, Georg, 1837-1898                            164\n",
       "Twain, Mark, 1835-1910                             154\n",
       "Parker, Gilbert, 1862-1932                         133\n",
       "Balzac, Honoré de, 1799-1850                       123\n",
       "Unknown                                            115\n",
       "Kingston, William Henry Giles, 1814-1880           114\n",
       "Jacobs, W. W. (William Wymark), 1863-1943          111\n",
       "Meredith, George, 1828-1909                        109\n",
       "Verne, Jules, 1828-1905                            104\n",
       "Motley, John Lothrop, 1814-1877                    103\n",
       "Howells, William Dean, 1837-1920                   100\n",
       "Ballantyne, R. M. (Robert Michael), 1825-1894       98\n",
       "Dickens, Charles, 1812-1870                         92\n",
       "Hawthorne, Nathaniel, 1804-1864                     89\n",
       "Pepys, Samuel, 1633-1703                            87\n",
       "Dumas père, Alexandre, 1802-1870                    85\n",
       "Fenn, George Manville, 1831-1909                    83\n",
       "Stevenson, Robert Louis, 1850-1894                  76\n",
       "Henty, G. A. (George Alfred), 1832-1902             76\n",
       "Trollope, Anthony, 1815-1882                        69\n",
       "James, Henry, 1843-1916                             67\n",
       "MacDonald, George, 1824-1905                        66\n",
       "Doyle, Arthur Conan, Sir, 1859-1930                 65\n",
       "Lang, Andrew, 1844-1912                             64\n",
       "Churchill, Winston, 1871-1947                       64\n",
       "                                                  ... \n",
       "McIntyre, John T.                                    1\n",
       "McIntosh, Maria J. (Maria Jane), 1803-1878           1\n",
       "McConnel, J. L.                                      1\n",
       "McConnell, Francis John, 1871-1953                   1\n",
       "McConnell, James R. (James Rogers), 1887-1917        1\n",
       "McConnell, James V., 1925-1990                       1\n",
       "McCormack, Mary A.                                   1\n",
       "McCracken, Elizabeth                                 1\n",
       "McCrae, John, 1872-1918                              1\n",
       "McCulloch-Williams, Martha, 1857?-                   1\n",
       "McCutcheon, John T., 1870-1949                       1\n",
       "McDonnell, Michael F. J.                             1\n",
       "McDougall, Henriette, 1817-1886                      1\n",
       "McFadden, Elizabeth Apthorp                          1\n",
       "McFadyen, John Edgar                                 1\n",
       "McFarland, J. Horace (John Horace), 1859-1948        1\n",
       "McFee, William, 1881-1966                            1\n",
       "McFeeters, J. C.                                     1\n",
       "McGaffey, Kenneth                                    1\n",
       "McGaw, Virginia                                      1\n",
       "McGee, W. J. (William John), 1853-1912               1\n",
       "McGibeny, Donald                                     1\n",
       "McGlashan, C. F. (Charles Fayette)                   1\n",
       "McGovern, John                                       1\n",
       "McGovern, John, 1850-1917                            1\n",
       "McGowan, Richard, 1958-                              1\n",
       "McGregor, Duncan, 1787-1881                          1\n",
       "McHarry, Samuel                                      1\n",
       "McIlwraith, Jean N. (Jean Newton), 1859-1938         1\n",
       "King, Alfred Castner                                 1\n",
       "Name: Title, dtype: int64"
      ]
     },
     "execution_count": 4,
     "metadata": {},
     "output_type": "execute_result"
    }
   ],
   "source": [
    "metadf = parse_metadata(gb_path)\n",
    "metadf.groupby(\"Author\").count()[\"Title\"].sort_values(ascending=False)"
   ]
  },
  {
   "cell_type": "code",
   "execution_count": 1,
   "metadata": {},
   "outputs": [],
   "source": [
    "w2v_scores = {'capital-common-countries': 0.2490118577075099,\n",
    " 'capital-world': 0.05106100795755968,\n",
    " 'currency': 0.010392609699769052,\n",
    " 'city-in-state': 0.08519793459552495,\n",
    " 'family': 0.6126482213438735,\n",
    " 'gram1-adjective-to-adverb': 0.29536290322580644,\n",
    " 'gram2-opposite': 0.17364532019704434,\n",
    " 'gram3-comparative': 0.8911411411411412,\n",
    " 'gram4-superlative': 0.6729055258467023,\n",
    " 'gram5-present-participle': 0.553030303030303,\n",
    " 'gram6-nationality-adjective': 0.28267667292057536,\n",
    " 'gram7-past-tense': 0.6230769230769231,\n",
    " 'gram8-plural': 0.753003003003003,\n",
    " 'gram9-plural-verbs': 0.542528735632184,\n",
    " 'Total accuracy': 0.34704396680583477}"
   ]
  },
  {
   "cell_type": "code",
   "execution_count": null,
   "metadata": {},
   "outputs": [],
   "source": [
    "metadf = parse_xml_metadata(xml_path)\n",
    "metadf.groupby(\"author_fullname\").count()[\"title\"].sort_values(ascending=False)"
   ]
  },
  {
   "cell_type": "code",
   "execution_count": 73,
   "metadata": {},
   "outputs": [],
   "source": [
    "wells = metadf[metadf[\"author_fullname\"] == \"H. G. (Herbert George) Wells\"]\n",
    "dickens = metadf[metadf[\"author_fullname\"] == \"Charles Dickens\"]"
   ]
  },
  {
   "cell_type": "code",
   "execution_count": 87,
   "metadata": {},
   "outputs": [],
   "source": [
    "from shutil import copy\n",
    "def copy_files(metadf, folder):\n",
    "    try:\n",
    "        os.mkdir(folder)\n",
    "    except:\n",
    "        pass\n",
    "    \n",
    "    for path in metadf.path:\n",
    "        copy(path, folder)\n",
    "        \n",
    "copy_files(wells, \"./wells/\")\n",
    "copy_files(dickens,\"./dickens/\")"
   ]
  }
 ],
 "metadata": {
  "kernelspec": {
   "display_name": "Python 3",
   "language": "python",
   "name": "python3"
  },
  "language_info": {
   "codemirror_mode": {
    "name": "ipython",
    "version": 3
   },
   "file_extension": ".py",
   "mimetype": "text/x-python",
   "name": "python",
   "nbconvert_exporter": "python",
   "pygments_lexer": "ipython3",
   "version": "3.6.0"
  }
 },
 "nbformat": 4,
 "nbformat_minor": 2
}
