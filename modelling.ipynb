{
 "cells": [
  {
   "cell_type": "code",
   "execution_count": 94,
   "metadata": {},
   "outputs": [],
   "source": [
    "from keras.layers import Conv2D, MaxPooling2D, Input, Flatten, concatenate, Dense"
   ]
  },
  {
   "cell_type": "code",
   "execution_count": 93,
   "metadata": {},
   "outputs": [],
   "source": [
    "def InceptionModule(x):\n",
    "    tower_1 = Conv2D(64, (1, x.shape[2].value), padding='valid', activation='relu')(x)\n",
    "    tower_1 = Conv2D(64, (3, tower_1.shape[2].value), padding='valid', activation='relu')(tower_1)\n",
    "\n",
    "    tower_2 = Conv2D(64, (1, x.shape[2].value), padding='valid', activation='relu')(x)\n",
    "    tower_2 = Conv2D(64, (5, tower_2.shape[2].value), padding='valid', activation='relu')(tower_2)\n",
    "\n",
    "    tower_3 = MaxPooling2D((3, 1), strides=(1, 1), padding='valid')(x)\n",
    "    tower_3 = Conv2D(64, (1, tower_3.shape[2].value), padding='valid', activation='relu')(tower_3)\n",
    "    \n",
    "    tower_4 = Conv2D(64, (1, x.shape[2].value), padding='valid', activation='relu')(x)\n",
    "\n",
    "    print(tower_1.shape)\n",
    "    print(tower_2.shape)\n",
    "    print(tower_3.shape)\n",
    "    print(tower_4.shape)\n",
    "    \n",
    "    return concatenate([tower_1, tower_2, tower_3, tower_4], axis=1)"
   ]
  },
  {
   "cell_type": "code",
   "execution_count": 91,
   "metadata": {},
   "outputs": [
    {
     "name": "stdout",
     "output_type": "stream",
     "text": [
      "(?, 98, 1, 64)\n",
      "(?, 96, 1, 64)\n",
      "(?, 98, 1, 64)\n",
      "(?, 100, 1, 64)\n"
     ]
    },
    {
     "name": "stderr",
     "output_type": "stream",
     "text": [
      "c:\\users\\kevin\\appdata\\local\\programs\\python\\python36\\lib\\site-packages\\ipykernel_launcher.py:11: UserWarning: Update your `Model` call to the Keras 2 API: `Model(inputs=Tensor(\"in..., outputs=Tensor(\"de...)`\n",
      "  # This is added back by InteractiveShellApp.init_path()\n"
     ]
    }
   ],
   "source": [
    "windowsize = 100\n",
    "feature_len = 119\n",
    "\n",
    "inputs = Input((windowsize, feature_len, 1, ))\n",
    "x = InceptionModule(inputs)\n",
    "x = Flatten()(x)\n",
    "x = Dense(200)(x)\n",
    "x = Dense(2)(x)\n",
    "outputs = x\n",
    "\n",
    "model = Model(input=inputs, output=outputs)\n",
    "\n",
    "model.compile(optimizer='rmsprop',\n",
    "              loss='categorical_crossentropy',\n",
    "              metrics=['accuracy'])"
   ]
  },
  {
   "cell_type": "code",
   "execution_count": 109,
   "metadata": {},
   "outputs": [],
   "source": []
  }
 ],
 "metadata": {
  "kernelspec": {
   "display_name": "Python 3",
   "language": "python",
   "name": "python3"
  },
  "language_info": {
   "codemirror_mode": {
    "name": "ipython",
    "version": 3
   },
   "file_extension": ".py",
   "mimetype": "text/x-python",
   "name": "python",
   "nbconvert_exporter": "python",
   "pygments_lexer": "ipython3",
   "version": "3.6.0"
  }
 },
 "nbformat": 4,
 "nbformat_minor": 2
}
