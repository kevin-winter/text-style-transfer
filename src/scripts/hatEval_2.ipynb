{
 "cells": [
  {
   "cell_type": "code",
   "execution_count": 1,
   "metadata": {},
   "outputs": [],
   "source": [
    "%load_ext autoreload\n",
    "%autoreload 2\n",
    "\n",
    "%matplotlib inline"
   ]
  },
  {
   "cell_type": "code",
   "execution_count": 2,
   "metadata": {},
   "outputs": [
    {
     "name": "stderr",
     "output_type": "stream",
     "text": [
      "Using TensorFlow backend.\n"
     ]
    }
   ],
   "source": [
    "import pandas as pd\n",
    "import numpy as np\n",
    "import time\n",
    "import re\n",
    "import seaborn as sns\n",
    "import pickle as pkl\n",
    "sns.set(style=\"ticks\")\n",
    "\n",
    "import spacy\n",
    "from textblob import TextBlob\n",
    "from gensim.scripts import glove2word2vec\n",
    "from gensim.models import KeyedVectors\n",
    "\n",
    "from keras.layers import *\n",
    "from keras import Model, Sequential\n",
    "from keras.preprocessing.text import Tokenizer\n",
    "from keras.preprocessing.sequence import pad_sequences\n",
    "import keras.callbacks as kc\n",
    "import keras.backend as K\n",
    "\n",
    "from xgboost import XGBClassifier\n",
    "\n",
    "from sklearn.linear_model import LogisticRegression\n",
    "from sklearn.ensemble import ExtraTreesClassifier, AdaBoostClassifier\n",
    "from sklearn.naive_bayes import MultinomialNB\n",
    "from sklearn.svm import LinearSVC, SVC\n",
    "from sklearn.neighbors import KNeighborsClassifier\n",
    "\n",
    "from sklearn.discriminant_analysis import LinearDiscriminantAnalysis\n",
    "from sklearn.decomposition import PCA\n",
    "from sklearn.pipeline import Pipeline\n",
    "from sklearn.model_selection import train_test_split\n",
    "from sklearn.metrics import classification_report, confusion_matrix, accuracy_score\n",
    "\n",
    "from helpers import *\n",
    "from twitter_preprocess import twitter_preprocess\n",
    "import keras_models as m"
   ]
  },
  {
   "cell_type": "code",
   "execution_count": 3,
   "metadata": {},
   "outputs": [],
   "source": [
    "wv_en = KeyedVectors.load_word2vec_format(\"./glove100.w2v\")\n",
    "wv_es = KeyedVectors.load_word2vec_format(\"./glove_spanish.vec\")"
   ]
  },
  {
   "cell_type": "code",
   "execution_count": 17,
   "metadata": {},
   "outputs": [],
   "source": [
    "clfs = {\"en\":{},\"es\":{}}"
   ]
  },
  {
   "cell_type": "code",
   "execution_count": 4,
   "metadata": {},
   "outputs": [],
   "source": [
    "# CONFIG\n",
    "lang = \"en\"\n",
    "task = \"hs\"\n",
    "\n",
    "# Load Vocabs\n",
    "\n",
    "wv = {\"en\": wv_en, \"es\": wv_es}[lang]\n",
    "\n",
    "with open(\"en_swearwords.pkl\",\"rb\") as f:\n",
    "    swearwords = pkl.load(f)\n",
    "\n",
    "with open(\"en_racism_f.pkl\",\"rb\") as f:\n",
    "    racism_f = pkl.load(f)\n",
    "\n",
    "with open(\"en_sexism_f.pkl\",\"rb\") as f:\n",
    "    sexism_f = pkl.load(f)\n",
    "\n",
    "# Data Import\n",
    "df = pd.read_csv(\"data/train_{}.tsv\".format(lang), encoding=\"UTF-8\", delimiter=\"\\t\")\n",
    "\n",
    "texts = df.text\n",
    "y = df.HS.values\n",
    "\n",
    "if task != \"hs\":\n",
    "    texts = df.text[df.HS == 1]\n",
    "    if task == \"ag\":\n",
    "        y = df.AG[df.HS == 1].values\n",
    "    elif task == \"tr\":\n",
    "        y = df.TR[df.HS == 1].values"
   ]
  },
  {
   "cell_type": "code",
   "execution_count": 177,
   "metadata": {},
   "outputs": [],
   "source": [
    "## Add Addtional Datasets\n",
    "# df2 = pd.read_csv(\"data/support_en.csv\", encoding=\"ISO-8859-1\")\n",
    "# df2[\"y\"] = (df2.does_this_tweet_contain_hate_speech == 'The tweet contains hate speech').apply(int)\n",
    "\n",
    "# texts = concat((texts, df2.tweet_text))\n",
    "# y = concat((y, df2.y.values))"
   ]
  },
  {
   "cell_type": "code",
   "execution_count": 19,
   "metadata": {},
   "outputs": [],
   "source": [
    "def reshape(samples):\n",
    "    return (sample.reshape(sample.shape[0], -1) for sample in samples)"
   ]
  },
  {
   "cell_type": "code",
   "execution_count": 10,
   "metadata": {},
   "outputs": [
    {
     "name": "stdout",
     "output_type": "stream",
     "text": [
      "Pipe: preprocess\n",
      "Pipe: splitting\n",
      "Pipe: vectorizing\n",
      "Pipe: padding\n"
     ]
    }
   ],
   "source": [
    "glove_pipe = [\n",
    "    (\"preprocess\", apply(twitter_preprocess)),\n",
    "    (\"splitting\", apply(custom_split)),\n",
    "    (\"vectorizing\", apply(tokens_to_wv, wv=wv)),\n",
    "    (\"padding\", apply(pad_sequences, False, maxlen=200, value=wv[\"<space>\"] if lang==\"en\" else wv[\"desconocido\"], padding=\"post\", dtype='float32'))\n",
    "    #,(\"train_test_split\", apply(train_val_test_split, False, y=y, val_size=0.1, test_size=.1, limit_testset=len(df)))\n",
    "    #,(\"reshape\", apply(reshape, False))\n",
    "]\n",
    "\n",
    "padded_sequence_pipe = [\n",
    "    (\"preprocess\", apply(twitter_preprocess)),\n",
    "    (\"sequence_tokenize\", apply(sequence_tokenize, False)),\n",
    "    (\"padding\", apply(pad_sequences, False, value=-1, padding=\"post\", dtype='int32')),\n",
    "    (\"train_test_split\", apply(train_val_test_split, False, y=y, val_size=.1, test_size=.1, limit_testset=len(df)))\n",
    "]\n",
    "\n",
    "ngram_pipe = [\n",
    "    (\"preprocess\", apply(twitter_preprocess)),\n",
    "    (\"ngram_tfidf\", apply(ngram_tfidf, False, ngram_range=(1,4), max_features=100000, stem=True, stop_words=\"english\" if lang==\"en\" else None)),\n",
    "    (\"train_test_split\", apply(train_val_test_split, False, y=y, val_size=0.1, test_size=.1, limit_testset=len(df)))\n",
    "]\n",
    "\n",
    "char_ngram_pipe = [\n",
    "    (\"ngram_tfidf\", apply(ngram_tfidf, False, ngram_range=(10,15), max_features=300000, analyzer=\"char\")),\n",
    "    (\"train_test_split\", apply(train_val_test_split, False, y=y, val_size=0, test_size=.1, limit_testset=len(df)))\n",
    "]\n",
    "\n",
    "man_features_pipe = [\n",
    "    (\"preprocess\", apply(twitter_preprocess)),\n",
    "    (\"man_features\", apply(extract_features, False, word_features=[\"wall\", \"illegal\", swearwords, racism_f, sexism_f])),\n",
    "    (\"train_test_split\", apply(train_val_test_split, False, y=y, val_size=.1, test_size=.1, limit_testset=len(df))),\n",
    "    (\"resample\", apply(resample, False))\n",
    "]\n",
    "\n",
    "#X_train, y_train, X_val, y_val, X_test, y_test = pipe(texts, glove_pipe)\n",
    "r = pipe(texts, glove_pipe)\n"
   ]
  },
  {
   "cell_type": "code",
   "execution_count": 9,
   "metadata": {},
   "outputs": [
    {
     "data": {
      "application/vnd.jupyter.widget-view+json": {
       "model_id": "ed106e3dba9f41b2bd860e9cc834ab37",
       "version_major": 2,
       "version_minor": 0
      },
      "text/plain": [
       "HBox(children=(IntProgress(value=0, description='Training', max=5, style=ProgressStyle(description_width='init…"
      ]
     },
     "metadata": {},
     "output_type": "display_data"
    },
    {
     "data": {
      "application/vnd.jupyter.widget-view+json": {
       "model_id": "f7a993ce8d314a3f9ed51fd9652a7c10",
       "version_major": 2,
       "version_minor": 0
      },
      "text/plain": [
       "HBox(children=(IntProgress(value=0, description='Epoch 0', max=7199, style=ProgressStyle(description_width='in…"
      ]
     },
     "metadata": {},
     "output_type": "display_data"
    },
    {
     "data": {
      "application/vnd.jupyter.widget-view+json": {
       "model_id": "e034f84dc4c9435987d3c1de9f0319f6",
       "version_major": 2,
       "version_minor": 0
      },
      "text/plain": [
       "HBox(children=(IntProgress(value=0, description='Epoch 1', max=7199, style=ProgressStyle(description_width='in…"
      ]
     },
     "metadata": {},
     "output_type": "display_data"
    },
    {
     "data": {
      "application/vnd.jupyter.widget-view+json": {
       "model_id": "650237b7bfdf4b6ea4bbc1d1bb33c3b5",
       "version_major": 2,
       "version_minor": 0
      },
      "text/plain": [
       "HBox(children=(IntProgress(value=0, description='Epoch 2', max=7199, style=ProgressStyle(description_width='in…"
      ]
     },
     "metadata": {},
     "output_type": "display_data"
    },
    {
     "data": {
      "application/vnd.jupyter.widget-view+json": {
       "model_id": "c1d46c3c5da84b7a914b1cfa413b1d38",
       "version_major": 2,
       "version_minor": 0
      },
      "text/plain": [
       "HBox(children=(IntProgress(value=0, description='Epoch 3', max=7199, style=ProgressStyle(description_width='in…"
      ]
     },
     "metadata": {},
     "output_type": "display_data"
    },
    {
     "data": {
      "application/vnd.jupyter.widget-view+json": {
       "model_id": "0cbd8adbacd447f387a36941a34f68aa",
       "version_major": 2,
       "version_minor": 0
      },
      "text/plain": [
       "HBox(children=(IntProgress(value=0, description='Epoch 4', max=7199, style=ProgressStyle(description_width='in…"
      ]
     },
     "metadata": {},
     "output_type": "display_data"
    },
    {
     "name": "stdout",
     "output_type": "stream",
     "text": [
      "\n",
      "              precision    recall  f1-score   support\n",
      "\n",
      "           0       0.77      0.91      0.83       522\n",
      "           1       0.83      0.62      0.71       378\n",
      "\n",
      "   micro avg       0.79      0.79      0.79       900\n",
      "   macro avg       0.80      0.76      0.77       900\n",
      "weighted avg       0.79      0.79      0.78       900\n",
      "\n"
     ]
    },
    {
     "data": {
      "image/png": "[encoded data removed]",
      "text/plain": [
       "<Figure size 360x360 with 2 Axes>"
      ]
     },
     "metadata": {},
     "output_type": "display_data"
    }
   ],
   "source": [
    "# Select Model\n",
    "\n",
    "clf = train_keras_model(m.zhang_cnn, 5, 32, X_train, y_train, X_val, y_val)\n",
    "#clf = LinearSVC().fit(X_train, y_train)\n",
    "#clf = AdaBoostClassifier(n_estimators=100).fit(X_train, y_train)\n",
    "#clf = LogisticRegression().fit(X_train, y_train)\n",
    "#clf = MultinomialNB().fit(X_train, y_train)\n",
    "#clf = SVC().fit(X_train, y_train)\n",
    "#clf = KNeighborsClassifier(300).fit(X_train, y_train)\n",
    "#clf = XGBClassifier().fit(X_train, y_train)\n",
    "\n",
    "evaluate_model(clf, X_test, y_test)"
   ]
  },
  {
   "cell_type": "code",
   "execution_count": 6,
   "metadata": {},
   "outputs": [
    {
     "ename": "NameError",
     "evalue": "name 'k' is not defined",
     "output_type": "error",
     "traceback": [
      "\u001b[1;31m---------------------------------------------------------------------------\u001b[0m",
      "\u001b[1;31mNameError\u001b[0m                                 Traceback (most recent call last)",
      "\u001b[1;32m<ipython-input-6-31f224b3e5a7>\u001b[0m in \u001b[0;36m<module>\u001b[1;34m\u001b[0m\n\u001b[1;32m----> 1\u001b[1;33m \u001b[0mmodel\u001b[0m \u001b[1;33m=\u001b[0m \u001b[0mk\u001b[0m\u001b[1;33m.\u001b[0m\u001b[0mmodels\u001b[0m\u001b[1;33m.\u001b[0m\u001b[0mload_model\u001b[0m\u001b[1;33m(\u001b[0m\u001b[1;34m'model.h5'\u001b[0m\u001b[1;33m)\u001b[0m\u001b[1;33m\u001b[0m\u001b[0m\n\u001b[0m",
      "\u001b[1;31mNameError\u001b[0m: name 'k' is not defined"
     ]
    }
   ],
   "source": [
    "model = k.models.load_model('model.h5')"
   ]
  },
  {
   "cell_type": "code",
   "execution_count": 606,
   "metadata": {},
   "outputs": [],
   "source": [
    "clfs[lang][task] = clf\n",
    "clf.save(\"{}_{}_model.h5\".format(lang,task))"
   ]
  },
  {
   "cell_type": "code",
   "execution_count": null,
   "metadata": {},
   "outputs": [],
   "source": [
    "texts[rights].apply(len).hist()"
   ]
  },
  {
   "cell_type": "code",
   "execution_count": 73,
   "metadata": {},
   "outputs": [
    {
     "data": {
      "text/plain": [
       "<matplotlib.axes._subplots.AxesSubplot at 0x25fc1cccc50>"
      ]
     },
     "execution_count": 73,
     "metadata": {},
     "output_type": "execute_result"
    },
    {
     "data": {
      "image/png": "[encoded data removed]",
      "text/plain": [
       "<Figure size 432x288 with 1 Axes>"
      ]
     },
     "metadata": {},
     "output_type": "display_data"
    }
   ],
   "source": [
    "wrong.apply(len).hist()"
   ]
  },
  {
   "cell_type": "code",
   "execution_count": 12,
   "metadata": {},
   "outputs": [],
   "source": [
    "wlen = np.array([len(x) for x in texts.values])"
   ]
  },
  {
   "cell_type": "code",
   "execution_count": 15,
   "metadata": {},
   "outputs": [
    {
     "data": {
      "text/plain": [
       "<matplotlib.axes._subplots.AxesSubplot at 0x165c0951550>"
      ]
     },
     "execution_count": 15,
     "metadata": {},
     "output_type": "execute_result"
    },
    {
     "data": {
      "image/png": "[encoded data removed]",
      "text/plain": [
       "<Figure size 432x288 with 1 Axes>"
      ]
     },
     "metadata": {},
     "output_type": "display_data"
    }
   ],
   "source": [
    "pd.Series(wlen[rights]).hist()"
   ]
  },
  {
   "cell_type": "code",
   "execution_count": 16,
   "metadata": {},
   "outputs": [
    {
     "data": {
      "text/plain": [
       "<matplotlib.axes._subplots.AxesSubplot at 0x165be54c630>"
      ]
     },
     "execution_count": 16,
     "metadata": {},
     "output_type": "execute_result"
    },
    {
     "data": {
      "image/png": "[encoded data removed]",
      "text/plain": [
       "<Figure size 432x288 with 1 Axes>"
      ]
     },
     "metadata": {},
     "output_type": "display_data"
    }
   ],
   "source": [
    "pd.Series(wlen[rights == False]).hist()"
   ]
  },
  {
   "cell_type": "code",
   "execution_count": 11,
   "metadata": {
    "scrolled": true
   },
   "outputs": [
    {
     "data": {
      "text/plain": [
       "1       Why would young fighting age men be the vast m...\n",
       "25      @WattersWorld @JesseBWatters @BillSpadea How a...\n",
       "33      The real truth is after Cologne and in the Nor...\n",
       "46      This is what the streets of the #uk will look ...\n",
       "74      Good news.We are against illegal immigrants.Ba...\n",
       "98      This immigrant should be hung or shot! Period!...\n",
       "106     @Kashou_ @soulofkab real talk do you have eyes...\n",
       "133     @Daily_Record I bit my toungue when l heard Sy...\n",
       "144     South Koreans Stand Against Islamic Immigratio...\n",
       "150     Daily migrant invasions  #migrant #buildthewal...\n",
       "170     sharia Law Tessa is that not tony Blair's wife...\n",
       "178     @DrARWN We need a moratorium on all immigratio...\n",
       "183     @TheEconomist Stop the immigration of all 40 m...\n",
       "185     @TelegraphNews We stand with the woman of Colo...\n",
       "188     No wonder so many \"refugees\" are accused of fr...\n",
       "210     @BetterDwelling @KMGVictoria To ignore the rol...\n",
       "211     Poland: our country is safe because we haven't...\n",
       "213     The same Max Mosley who published a by-electio...\n",
       "214     Sheer racism and bigotry: Israeli lawmaker Ore...\n",
       "226     Why daily 5000 refugees come from Eritrea ? Fi...\n",
       "246     Watch: refugee says Sweden will be the first c...\n",
       "270     Trump stands with victims of immigrant violenc...\n",
       "281     @NNetchaeva @realDonaldTrump BUT. I would bet ...\n",
       "283     @TOOEdit @realDonaldTrump Have to address LEGA...\n",
       "291     Angry Italian officials refuse to let this Ita...\n",
       "339     #potus must #buildthatwall my first ever msg o...\n",
       "402     Ill-legal migration isÂ invasion https://t.co/...\n",
       "413     It takes twelve Germans to work and pay taxes ...\n",
       "440     In Austria the elder people in homes need 4 Eu...\n",
       "447     How to train your refugee https://t.co/QXnxYkK1wQ\n",
       "                              ...                        \n",
       "8683    @AnnCoulter Ann, ever think you might be a bit...\n",
       "8684    Don’t tell me how u got a bitch drunk An then ...\n",
       "8708    @_CIay Clay, if this is sarcasm, its really ba...\n",
       "8714    @rdag51509914 @OutlawsOW @DallasFuel Youre****...\n",
       "8725    @lorenzo_leuzzi @timflynnny @benshapiro you ca...\n",
       "8747            @SeanWats Hitem with your purse you pussy\n",
       "8759    @reubing What I find amusing is the hysterical...\n",
       "8764    @IntThings Unless you love a skank hoe that ch...\n",
       "8785    @SenKamalaHarris @SenKamalaHarris You're hyste...\n",
       "8806         Ill rape women but Ill respect cow, Jay hind\n",
       "8812    @Kara3022 @ScottBaio @SUBWAY @71kylejordan @De...\n",
       "8825    I wouldn't have done anything if you didn't ex...\n",
       "8833    Females-*you need to respect women more and st...\n",
       "8840    @CassandraRules @AndrewWK @Dancingmanfound Omg...\n",
       "8845    @artbychristinem @AnnCoulter A HYSTERICAL woma...\n",
       "8870    @NYMag I'd like to see a sitcom or talk-host s...\n",
       "8879                          @Kaepernick7 Fuck you pussy\n",
       "8890    @oliviajblue @xx_ash_cash_xx It doesnt boo you...\n",
       "8891    @MissSarah_Jay This is not a concern which is ...\n",
       "8899    Just cause you pussy boys get a strap don mean...\n",
       "8901    2k19 drops tm and you pussy boys aint ready fo...\n",
       "8908    Fucking clueless woman should stay in the kitc...\n",
       "8929    @KeelieSturm @CBCNews Muhhhhh privilege? Excus...\n",
       "8932    @LindaSuhler It wasnt a mistake-it is a more t...\n",
       "8934    You don't have to explain why because a dishwa...\n",
       "8936    I will always love you & Ken though @LisaVande...\n",
       "8946    @dongsass Not all men youre right Doyoung woul...\n",
       "8982    One of the biggest reason I never wanted to co...\n",
       "8994    Both are dopes, who cares who wins the \"Most H...\n",
       "8998                    Hysterical woman like @CoryBooker\n",
       "Name: text, Length: 751, dtype: object"
      ]
     },
     "execution_count": 11,
     "metadata": {},
     "output_type": "execute_result"
    }
   ],
   "source": [
    "rights = pd.Series(np.round(clf.predict(r)).flatten() == 0 ^ pd.Series(y == 1).values)\n",
    "#wrong_sents = tokenizer.sequences_to_texts(X_test[wrongs])\n",
    "wrong = texts[rights == False]\n",
    "wrong"
   ]
  },
  {
   "cell_type": "code",
   "execution_count": null,
   "metadata": {},
   "outputs": [],
   "source": [
    "#SUBMISSION"
   ]
  },
  {
   "cell_type": "code",
   "execution_count": 595,
   "metadata": {},
   "outputs": [],
   "source": [
    "testset = pd.read_csv(\"data/test_{}.tsv\".format(lang), encoding=\"UTF-8\", delimiter=\"\\t\")"
   ]
  },
  {
   "cell_type": "code",
   "execution_count": 596,
   "metadata": {},
   "outputs": [
    {
     "name": "stdout",
     "output_type": "stream",
     "text": [
      "Pipe: preprocess\n",
      "Pipe: splitting\n",
      "Pipe: vectorizing\n",
      "Pipe: padding\n"
     ]
    },
    {
     "data": {
      "text/plain": [
       "(3000, 150, 100)"
      ]
     },
     "execution_count": 596,
     "metadata": {},
     "output_type": "execute_result"
    }
   ],
   "source": [
    "X = pipe(testset.text, glove_pipe[:-1])\n",
    "X.shape"
   ]
  },
  {
   "cell_type": "code",
   "execution_count": 597,
   "metadata": {},
   "outputs": [],
   "source": [
    "testset[\"HS\"] = np.round(clf.predict(X)).flatten()"
   ]
  },
  {
   "cell_type": "code",
   "execution_count": 598,
   "metadata": {},
   "outputs": [],
   "source": [
    "testset[\"AG\"] = 0\n",
    "testset[\"TR\"] = 0"
   ]
  },
  {
   "cell_type": "code",
   "execution_count": 582,
   "metadata": {},
   "outputs": [],
   "source": [
    "testset[\"HS\"] = testset.HS.astype(int)\n",
    "testset[\"TR\"] = testset.TR.astype(int)\n",
    "testset[\"AG\"] = testset.AG.astype(int)"
   ]
  },
  {
   "cell_type": "code",
   "execution_count": 607,
   "metadata": {},
   "outputs": [],
   "source": [
    "testset.loc[testset.HS == 1, \"AG\"] = np.round(clf.predict(X[testset.HS == 1])).flatten()"
   ]
  },
  {
   "cell_type": "code",
   "execution_count": 608,
   "metadata": {},
   "outputs": [],
   "source": [
    "testset[[\"id\",\"HS\"]].to_csv(\"{}_a.tsv\".format(lang), sep=\"\\t\", header=False, index=False)\n",
    "testset[[\"id\",\"HS\",\"TR\",\"AG\"]].to_csv(\"{}_b.tsv\".format(lang), sep=\"\\t\", header=False, index=False)"
   ]
  }
 ],
 "metadata": {
  "kernelspec": {
   "display_name": "Python 3",
   "language": "python",
   "name": "python3"
  },
  "language_info": {
   "codemirror_mode": {
    "name": "ipython",
    "version": 3
   },
   "file_extension": ".py",
   "mimetype": "text/x-python",
   "name": "python",
   "nbconvert_exporter": "python",
   "pygments_lexer": "ipython3",
   "version": "3.6.8"
  }
 },
 "nbformat": 4,
 "nbformat_minor": 2
}
