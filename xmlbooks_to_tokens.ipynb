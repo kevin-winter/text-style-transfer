{
 "cells": [
  {
   "cell_type": "code",
   "execution_count": 1,
   "metadata": {},
   "outputs": [],
   "source": [
    "import os\n",
    "import numpy as np\n",
    "from bs4 import BeautifulSoup as BS\n",
    "from nltk.tokenize import word_tokenize, sent_tokenize\n",
    "import pickle as pkl"
   ]
  },
  {
   "cell_type": "code",
   "execution_count": 53,
   "metadata": {},
   "outputs": [],
   "source": [
    "def get_text(file):\n",
    "    bs_file = BS(file, from_encoding=\"UTF-8\")\n",
    "    return bs_file.find(\"text\").getText()\n",
    "\n",
    "def tokenize(text):\n",
    "    return list(map(word_tokenize, sent_tokenize(text.lower())))\n",
    "\n",
    "def percentile_action(i, N, p, f, *fargs):\n",
    "    if not i%np.ceil(N*p/100) or i==N:\n",
    "        return f(i,N,p,fargs)\n",
    "    else: \n",
    "        return False\n",
    "\n",
    "def save_sents(i,N,p,args):\n",
    "    percent = i*100//N\n",
    "    print(\"{:3d}% parsed\".format(percent))\n",
    "    \n",
    "    try:\n",
    "        os.mkdir(\"tokens\")\n",
    "    except:\n",
    "        pass\n",
    "    \n",
    "    with open(\"tokens/w2v_tokens_{}.pkl\".format(percent//p), \"wb\") as out:\n",
    "        pkl.dump(args[0], out)\n",
    "    \n",
    "    return True\n",
    "\n",
    "def read_sents():\n",
    "    sents = []\n",
    "    for fname in os.listdir(\"tokens/\"):\n",
    "        with open(\"tokens/{}\".format(fname), \"rb\") as file:\n",
    "            sents += pkl.load(file)\n",
    "    \n",
    "    return sents"
   ]
  },
  {
   "cell_type": "code",
   "execution_count": 11,
   "metadata": {},
   "outputs": [],
   "source": [
    "filepath = \"C:/Users/kevin/Downloads/GutenTag-master/GutenTag-master/out2/\"\n",
    "files = os.listdir(filepath)\n",
    "nr_files = len(files)"
   ]
  },
  {
   "cell_type": "code",
   "execution_count": 13,
   "metadata": {},
   "outputs": [
    {
     "name": "stdout",
     "output_type": "stream",
     "text": [
      "Could not parse 'AutobiographyofAndrewCarnegiebyAndrewCarnegie17976.txt'\n",
      " 10% parsed\n",
      "Could not parse 'CutlassandCudgelbyGeorgeManvilleFenn21297.txt'\n",
      " 20% parsed\n",
      " 30% parsed\n",
      "Could not parse 'ItalytheMagicLandbyLilianWhiting29658.txt'\n",
      " 40% parsed\n",
      " 50% parsed\n",
      " 60% parsed\n",
      " 70% parsed\n",
      " 80% parsed\n",
      " 90% parsed\n"
     ]
    }
   ],
   "source": [
    "sents = []\n",
    "for i, fname in enumerate(files):\n",
    "    with open(filepath + fname, \"r\", encoding=\"utf8\") as file:\n",
    "        try:\n",
    "            sents += tokenize(get_text(file))\n",
    "        except:\n",
    "            print(\"Could not parse '{}'\".format(fname))\n",
    "        \n",
    "    if percentile_action(i+1, nr_files, 10, save_sents, sents):\n",
    "        sents = []"
   ]
  },
  {
   "cell_type": "code",
   "execution_count": 151,
   "metadata": {
    "scrolled": true
   },
   "outputs": [
    {
     "data": {
      "text/plain": [
       "(202377, 282650)"
      ]
     },
     "execution_count": 151,
     "metadata": {},
     "output_type": "execute_result"
    }
   ],
   "source": [
    "from gensim.models import Word2Vec\n",
    "w2v = Word2Vec(sents,workers=8)\n",
    "w2v.train(tokens, total_examples=len(tokens), epochs=5)"
   ]
  },
  {
   "cell_type": "code",
   "execution_count": null,
   "metadata": {},
   "outputs": [],
   "source": [
    "s = read_sents()"
   ]
  }
 ],
 "metadata": {
  "kernelspec": {
   "display_name": "Python 3",
   "language": "python",
   "name": "python3"
  },
  "language_info": {
   "codemirror_mode": {
    "name": "ipython",
    "version": 3
   },
   "file_extension": ".py",
   "mimetype": "text/x-python",
   "name": "python",
   "nbconvert_exporter": "python",
   "pygments_lexer": "ipython3",
   "version": "3.6.0"
  }
 },
 "nbformat": 4,
 "nbformat_minor": 2
}
