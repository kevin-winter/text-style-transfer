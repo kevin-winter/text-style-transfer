{
 "cells": [
  {
   "cell_type": "code",
   "execution_count": 1,
   "metadata": {},
   "outputs": [
    {
     "name": "stderr",
     "output_type": "stream",
     "text": [
      "c:\\users\\kevin\\appdata\\local\\programs\\python\\python36\\lib\\site-packages\\gensim\\utils.py:1209: UserWarning: detected Windows; aliasing chunkize to chunkize_serial\n",
      "  warnings.warn(\"detected Windows; aliasing chunkize to chunkize_serial\")\n",
      "Using TensorFlow backend.\n"
     ]
    }
   ],
   "source": [
    "%load_ext autoreload\n",
    "%autoreload 2\n",
    "\n",
    "import sys\n",
    "import os\n",
    "from os.path import join as pjoin\n",
    "sys.path.append('../')\n",
    "\n",
    "from gensim.models import Word2Vec, KeyedVectors\n",
    "\n",
    "from tst.io import AUTHORS, translation_embedding_dir\n",
    "from tst.preprocess.parsing import find_anker_words\n",
    "from tst.preprocess.markov import pos_emission_prob, pos_markov_chain, vocabulary, beam_search, \\\n",
    "    load_emission_probs, load_chain, load_pos_chain, beam_search2\n",
    "from tst.preprocess.translate import translate_to_author, translate\n",
    "from tst.preprocess.w2v_extensions import *\n",
    "from tst.preprocess.helper import W2V\n",
    "from tst.evaluation.evaluate import EvaluationBench"
   ]
  },
  {
   "cell_type": "markdown",
   "metadata": {},
   "source": [
    "## Create"
   ]
  },
  {
   "cell_type": "code",
   "execution_count": null,
   "metadata": {},
   "outputs": [],
   "source": [
    "chains, pos_chains, emission_probs = {}, {}, {}\n",
    "for author in os.listdir(AUTHORS)[2:]:\n",
    "    chains[author], pos_chains[author] = pos_markov_chain(author, state_size=3)\n",
    "    emission_probs[author] = pos_emission_prob(author)\n",
    "    #g = markov_to_graph(pos_chain)"
   ]
  },
  {
   "cell_type": "code",
   "execution_count": null,
   "metadata": {},
   "outputs": [],
   "source": [
    "dicts = {}\n",
    "for author in os.listdir(AUTHORS):\n",
    "    if author == 'all':\n",
    "        wv = Word2Vec.load(pjoin(AUTHORS, author, 'parsed', 'gutenberg_w2v_5e.model')).wv\n",
    "        vocab = {k: v.count for k, v in wv.vocab.items()}\n",
    "    else:\n",
    "        vocab = vocabulary(chains[author])\n",
    "#         wv = KeyedVectors.load_word2vec_format(pjoin(AUTHORS, author, 'parsed', 'only.vec'))\n",
    "#         vocab = {k: v.count for k, v in wv.vocab.items()}\n",
    "        \n",
    "    dicts[author] = normalize_dict(sorted(vocab, key=vocab.get, reverse=True))\n",
    "    with open(pjoin(AUTHORS, author, 'parsed', 'dict.txt'), 'w') as f:\n",
    "        f.writelines(map(lambda x: '{} {}\\n'.format(x[0], x[1]), dicts[author].items()))"
   ]
  },
  {
   "cell_type": "code",
   "execution_count": null,
   "metadata": {},
   "outputs": [],
   "source": [
    "for author in os.listdir(AUTHORS):\n",
    "    if author == 'all':\n",
    "        continue\n",
    "        \n",
    "    with open(pjoin(AUTHORS, author, 'parsed', 'ankers.txt'), 'w') as f:\n",
    "        anker_words = find_anker_words(dicts['all'], dicts[author])\n",
    "        for word in anker_words.keys():\n",
    "            f.write(f'{word} {word}\\n')"
   ]
  },
  {
   "cell_type": "markdown",
   "metadata": {},
   "source": [
    "## Load"
   ]
  },
  {
   "cell_type": "code",
   "execution_count": 36,
   "metadata": {},
   "outputs": [],
   "source": [
    "chains, pos_chains, emission_probs, embeddings = {}, {}, {}, {}\n",
    "for author in os.listdir(AUTHORS):\n",
    "    if author == 'all':\n",
    "        continue\n",
    "    \n",
    "    chains[author] = load_chain(author)\n",
    "    pos_chains[author] = load_pos_chain(author)\n",
    "    emission_probs[author] = load_emission_probs(author)\n",
    "    \n",
    "    folder = translation_embedding_dir(author)\n",
    "    embeddings[author] = [KeyedVectors.load_word2vec_format(pjoin(folder, 'vectors-all.txt')),\n",
    "                          KeyedVectors.load_word2vec_format(pjoin(folder, f'vectors-{author}.txt'))]"
   ]
  },
  {
   "cell_type": "markdown",
   "metadata": {},
   "source": [
    "## Evaluate"
   ]
  },
  {
   "cell_type": "code",
   "execution_count": null,
   "metadata": {},
   "outputs": [],
   "source": [
    "['it', 'is', 'a', 'truth', 'generally', 'maintained', 'that', 'a',\n",
    "       'single', 'man', 'in', 'prestige', 'of', 'a', 'good', 'intention',\n",
    "       'will', 'be', 'in', 'want', 'of', 'a', 'daughter', '.'],"
   ]
  },
  {
   "cell_type": "code",
   "execution_count": 6,
   "metadata": {},
   "outputs": [],
   "source": [
    "author = 'churchill'\n",
    "# input_sent  = 'This is a quick test.'\n",
    "input_sent = 'It is a truth universally acknowledged that a single man in possession of a good fortune must be in want of a wife.'\n",
    "# words = translate(input_sent, embeddings[author][0], embeddings[author][1], .3)[0]\n",
    "# words"
   ]
  }
 ],
 "metadata": {
  "kernelspec": {
   "display_name": "Python 3",
   "language": "python",
   "name": "python3"
  },
  "language_info": {
   "codemirror_mode": {
    "name": "ipython",
    "version": 3
   },
   "file_extension": ".py",
   "mimetype": "text/x-python",
   "name": "python",
   "nbconvert_exporter": "python",
   "pygments_lexer": "ipython3",
   "version": "3.6.0"
  },
  "pycharm": {
   "stem_cell": {
    "cell_type": "raw",
    "metadata": {
     "collapsed": false
    },
    "source": []
   }
  }
 },
 "nbformat": 4,
 "nbformat_minor": 2
}
