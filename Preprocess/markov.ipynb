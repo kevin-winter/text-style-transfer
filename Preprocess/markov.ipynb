{
 "cells": [
  {
   "cell_type": "code",
   "execution_count": 2,
   "metadata": {},
   "outputs": [
    {
     "name": "stdout",
     "output_type": "stream",
     "text": [
      "The autoreload extension is already loaded. To reload it, use:\n",
      "  %reload_ext autoreload\n"
     ]
    }
   ],
   "source": [
    "%load_ext autoreload\n",
    "%autoreload 2\n",
    "\n",
    "from sklearn.pipeline import Pipeline\n",
    "\n",
    "from transformers import TextCleaner, TextFeatureExtractor\n",
    "from helper import configure_logging\n",
    "from markov import lexical_freq, pos_emission_prob, pos_markov_chain, vocabulary, markov_to_graph, \\\n",
    "beam_search, LowerMarkovifyText\n",
    "from corpus_helper import CorpusStreamer, CorpusFileHandler\n",
    "\n",
    "configure_logging('markov.log', logging.DEBUG)"
   ]
  },
  {
   "cell_type": "code",
   "execution_count": 4,
   "metadata": {},
   "outputs": [
    {
     "ename": "NameError",
     "evalue": "name 'Pipeline' is not defined",
     "output_type": "error",
     "traceback": [
      "\u001b[1;31m---------------------------------------------------------------------------\u001b[0m",
      "\u001b[1;31mNameError\u001b[0m                                 Traceback (most recent call last)",
      "\u001b[1;32m<ipython-input-4-654ab6f68a63>\u001b[0m in \u001b[0;36m<module>\u001b[1;34m()\u001b[0m\n\u001b[0;32m      3\u001b[0m                      x.i - x.sent.start, x.sent.end - x.i, len(x), lexical_freq(x.text)) #number\n\u001b[0;32m      4\u001b[0m \u001b[1;33m\u001b[0m\u001b[0m\n\u001b[1;32m----> 5\u001b[1;33m \u001b[1;32mclass\u001b[0m \u001b[0mTextParser\u001b[0m\u001b[1;33m(\u001b[0m\u001b[0mPipeline\u001b[0m\u001b[1;33m)\u001b[0m\u001b[1;33m:\u001b[0m\u001b[1;33m\u001b[0m\u001b[0m\n\u001b[0m\u001b[0;32m      6\u001b[0m     \u001b[1;32mdef\u001b[0m \u001b[0m__init__\u001b[0m\u001b[1;33m(\u001b[0m\u001b[0mself\u001b[0m\u001b[1;33m)\u001b[0m\u001b[1;33m:\u001b[0m\u001b[1;33m\u001b[0m\u001b[0m\n\u001b[0;32m      7\u001b[0m         super().__init__([\n",
      "\u001b[1;31mNameError\u001b[0m: name 'Pipeline' is not defined"
     ]
    }
   ],
   "source": [
    "mapping = lambda x: (x.tag_, #category\n",
    "                     x.is_stop, #starts_with_vowel(x.text), #bool\n",
    "                     x.i - x.sent.start, x.sent.end - x.i, len(x), lexical_freq(x.text)) #number\n",
    "\n",
    "class TextParser(Pipeline):\n",
    "    def __init__(self):\n",
    "        super().__init__([\n",
    "            (\"TextCleaner\",TextCleaner()),\n",
    "            (\"TextFeatureExtractor\", TextFeatureExtractor(mapping))\n",
    "        ])"
   ]
  },
  {
   "cell_type": "code",
   "execution_count": null,
   "metadata": {},
   "outputs": [],
   "source": []
  },
  {
   "cell_type": "code",
   "execution_count": null,
   "metadata": {},
   "outputs": [],
   "source": [
    "folder_path = '../DataAcquisition/data/'\n",
    "for author in os.listdir(folder_path)[2:]:\n",
    "    path = os.path.join(folder_path, author)\n",
    "    print(path)\n",
    "    chain, pos_chain = pos_markov_chain(path, state_size=3)\n",
    "    emission_probs = pos_emission_prob(path)\n",
    "    #g = markov_to_graph(pos_chain)"
   ]
  },
  {
   "cell_type": "code",
   "execution_count": null,
   "metadata": {},
   "outputs": [],
   "source": [
    "folder_path = '../DataAcquisition/data/'\n",
    "with open(os.path.join(folder_path, 'wells', 'parsed', 'word_mm.pkl'), 'r') as f:\n",
    "    chain = LowerMarkovifyText.from_json(f.read())"
   ]
  },
  {
   "cell_type": "code",
   "execution_count": null,
   "metadata": {},
   "outputs": [],
   "source": [
    "words = ['war', 'men', 'created']\n",
    "probs = beam_search(chain, pos_chain, words, \n",
    "                    beam_size=10, \n",
    "                    word_trans_weight=1, \n",
    "                    emission_weight=1, \n",
    "                    context_weight=.2, \n",
    "                    eos_norm_weight=0, \n",
    "                    len_norm_weight=.05,\n",
    "                    smoothing_prob=1e-6,\n",
    "                    variable_length=True)"
   ]
  },
  {
   "cell_type": "code",
   "execution_count": 45,
   "metadata": {},
   "outputs": [],
   "source": [
    "vocab = vocabulary(chain)\n",
    "sortvocab = sorted(vocab, key=vocab.get, reverse=True)"
   ]
  }
 ],
 "metadata": {
  "kernelspec": {
   "display_name": "Python 3",
   "language": "python",
   "name": "python3"
  },
  "language_info": {
   "codemirror_mode": {
    "name": "ipython",
    "version": 3
   },
   "file_extension": ".py",
   "mimetype": "text/x-python",
   "name": "python",
   "nbconvert_exporter": "python",
   "pygments_lexer": "ipython3",
   "version": "3.6.0"
  }
 },
 "nbformat": 4,
 "nbformat_minor": 2
}
