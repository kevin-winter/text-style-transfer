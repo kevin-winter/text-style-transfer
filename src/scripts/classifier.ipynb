{
 "cells": [
  {
   "cell_type": "code",
   "execution_count": 1,
   "metadata": {},
   "outputs": [],
   "source": [
    "%load_ext autoreload\n",
    "%autoreload 2"
   ]
  },
  {
   "cell_type": "code",
   "execution_count": 2,
   "metadata": {},
   "outputs": [
    {
     "name": "stderr",
     "output_type": "stream",
     "text": [
      "c:\\users\\kevin\\appdata\\local\\programs\\python\\python36\\lib\\site-packages\\gensim\\utils.py:1209: UserWarning: detected Windows; aliasing chunkize to chunkize_serial\n",
      "  warnings.warn(\"detected Windows; aliasing chunkize to chunkize_serial\")\n",
      "Using TensorFlow backend.\n"
     ]
    }
   ],
   "source": [
    "import re\n",
    "import numpy as np\n",
    "import scipy.sparse as ss\n",
    "import pandas as pd\n",
    "import sys\n",
    "sys.path.append('..')\n",
    "from os.path import join as pjoin\n",
    "\n",
    "from gensim.models import Word2Vec\n",
    "\n",
    "import keras.backend as K\n",
    "from keras.callbacks import TensorBoard, EarlyStopping\n",
    "from keras_tqdm import TQDMNotebookCallback\n",
    "from keras.preprocessing.text import Tokenizer\n",
    "from keras.preprocessing.sequence import pad_sequences\n",
    "\n",
    "from sklearn.metrics import classification_report, confusion_matrix, accuracy_score\n",
    "from sklearn.feature_extraction.text import TfidfVectorizer\n",
    "from sklearn.model_selection import train_test_split\n",
    "\n",
    "# from imblearn.over_sampling import ADASYN, SMOTE\n",
    "# from imblearn.combine import SMOTEENN\n",
    "\n",
    "# from textblob import TextBlob\n",
    "# import spacy\n",
    "\n",
    "from ipywidgets import IntProgress\n",
    "\n",
    "from tst.preprocess.corpus import CorpusStreamer\n",
    "from tst.io import AUTHORS, GB_DOCS, W2V\n",
    "from tst.preprocess.transformers import TextCleaner\n",
    "from tst.preprocess.w2v_extensions import *\n",
    "from tst.evaluation.evaluate import sample_sentences\n",
    "%matplotlib inline"
   ]
  },
  {
   "cell_type": "code",
   "execution_count": 3,
   "metadata": {},
   "outputs": [],
   "source": [
    "def pad(arr, n):\n",
    "    if arr.shape[0] >= n:\n",
    "        return arr[:n]\n",
    "    else:\n",
    "        return np.concatenate([arr, np.zeros((n-arr.shape[0], arr.shape[1]))])\n",
    "\n",
    "\n",
    "def reshape(samples):\n",
    "    return np.array(list(samples))\n",
    "#     return (sample.reshape(sample.shape[0], -1) for sample in samples)\n",
    "\n",
    "def custom_split(string):\n",
    "    return re.findall(r'<?[\\w]+>?|\\S{1}', string)\n",
    "\n",
    "def get_word_vector(word, wv):\n",
    "    try:\n",
    "        return wv[word]\n",
    "    except:\n",
    "        try:\n",
    "            return wv[\"<unknown>\"]\n",
    "        except:\n",
    "            return wv[\"desconocido\"]\n",
    "\n",
    "def tokens_to_wv(tokens, wv):\n",
    "    return np.array(list(map(lambda x: get_word_vector(x, wv), tokens)))\n",
    " \n",
    "def clean_txt(txt):\n",
    "    txt = re.sub(\"[^A-Za-z!?' ]\",\"*\", txt)\n",
    "    txt = re.sub(\"(\\r?\\n)+\",\" \", txt)\n",
    "    txt = re.sub(\" +\",\" \", txt)\n",
    "    return txt\n",
    "\n",
    "def ngram_tfidf(docs, ngram_range=(1,4), max_features=None, binary=False, use_idf=False, stop_words=\"english\", stem=False, analyzer=\"word\"):\n",
    "    Vectorizor = StemmedTfidfVectorizer if stem else TfidfVectorizer\n",
    "    tfidfVec = Vectorizor(ngram_range=ngram_range, stop_words=stop_words, use_idf=use_idf, max_features=max_features, binary=binary, analyzer=analyzer)\n",
    "    return tfidfVec.fit_transform(docs)\n",
    "\n",
    "def sequence_tokenize(docs, vocab_size=100000):\n",
    "    tokenizer = Tokenizer(num_words=vocab_size, oov_token=\"<UNK>\")\n",
    "    tokenizer.fit_on_texts(docs)\n",
    "    return tokenizer.texts_to_sequences(docs)\n",
    "\n",
    "def train_val_test_split(X, y, val_size, test_size, limit_testset=-1):\n",
    "    X_train, X_test, y_train, y_test = train_test_split(X[:limit_testset], y[:limit_testset], test_size=test_size, random_state=0, stratify=y[:limit_testset])\n",
    "    if limit_testset > 0:\n",
    "        X_train, y_train = concat((X_train, X[limit_testset:])), concat((y_train, y[limit_testset:]))\n",
    "    \n",
    "    if val_size:\n",
    "        X_train, X_val, y_train, y_val = train_test_split(X_train, y_train, test_size=val_size*(1/(1-test_size)), random_state=0, stratify=y_train)\n",
    "    else:\n",
    "        X_val, y_val = np.array([]),np.array([])\n",
    "        \n",
    "    print(\"Train: {}, Val: {}, Test: {}\".format(len(y_train), len(y_val), len(y_test)))\n",
    "    return X_train, y_train, X_val, y_val, X_test, y_test\n",
    "\n",
    "def train_keras_model(model, epochs, batch_size, X_train, y_train, X_val, y_val):\n",
    "    K.clear_session()\n",
    "    if \"function\" in str(type(model)):\n",
    "        model = model(X_train)\n",
    "    \n",
    "    model.compile(optimizer=\"adam\", loss='binary_crossentropy', metrics=['accuracy'])\n",
    "    model.fit(X_train, y_train,\n",
    "            epochs=epochs,\n",
    "            batch_size=batch_size,\n",
    "            validation_data=(X_val, y_val),\n",
    "            verbose=1)\n",
    "#             callbacks=[\n",
    "#                 TQDMNotebookCallback(leave_inner=True),\n",
    "#                 #TensorBoard('./tensorboard/')\n",
    "#                 #EarlyStopping(monitor=\"val_loss\", patience=5, restore_best_weights=True)\n",
    "#             ])\n",
    "    return model\n",
    "\n",
    "def evaluate_model(clf, X_test, y_test):\n",
    "    y_pred = np.round(clf.predict(X_test))\n",
    "    print(classification_report(y_test, y_pred))\n",
    "    plot_confusion_matrix(confusion_matrix(y_test, y_pred))\n",
    "\n",
    "\n",
    "# class StemmedTfidfVectorizer(TfidfVectorizer):\n",
    "#     english_stemmer = Stemmer.Stemmer('en')\n",
    "    \n",
    "#     def build_analyzer(self):\n",
    "#         analyzer = super().build_analyzer()\n",
    "#         return lambda doc: self.english_stemmer.stemWords(analyzer(doc))\n",
    "    \n",
    "def apply(function, per_row=True, **kwargs):\n",
    "    def _apply(series):\n",
    "        if per_row:\n",
    "            return series.apply(function, **kwargs)\n",
    "        else:\n",
    "            return function(series, **kwargs)\n",
    "    return _apply\n",
    "\n",
    "def pipe(X, pipe):\n",
    "    for name, f in pipe:\n",
    "        print(\"Pipe: {}\".format(name))\n",
    "        X = f(X)\n",
    "    return X\n",
    "\n",
    "def concat(arrays):\n",
    "    if \"numpy.ndarray\" in str(type(arrays[0])):\n",
    "        return np.concatenate(arrays)\n",
    "    elif \"scipy.sparse\" in str(type(arrays[0])):\n",
    "        return ss.vstack(arrays)\n",
    "    elif \"pandas.core\" in str(type(arrays[0])):\n",
    "        return pd.concat(arrays)\n",
    "    else:\n",
    "        raise AttributeError\n",
    "\n",
    "def plot_confusion_matrix(cm,\n",
    "                          target_names = None,\n",
    "                          title='Confusion matrix',\n",
    "                          cmap=None,\n",
    "                          normalize=True):\n",
    "  \n",
    "    import matplotlib.pyplot as plt\n",
    "    import numpy as np\n",
    "    import itertools\n",
    "\n",
    "    accuracy = np.trace(cm) / float(np.sum(cm))\n",
    "    misclass = 1 - accuracy\n",
    "\n",
    "    if cmap is None:\n",
    "        cmap = plt.get_cmap('Blues')\n",
    "\n",
    "    plt.figure(figsize=(5,5))\n",
    "    plt.imshow(cm, interpolation='nearest', cmap=cmap)\n",
    "    plt.title(title)\n",
    "    plt.colorbar()\n",
    "\n",
    "    if target_names is not None:\n",
    "        tick_marks = np.arange(len(target_names))\n",
    "        plt.xticks(tick_marks, target_names, rotation=45)\n",
    "        plt.yticks(tick_marks, target_names)\n",
    "\n",
    "    if normalize:\n",
    "        cm = cm.astype('float') / cm.sum(axis=1)[:, np.newaxis]\n",
    "\n",
    "\n",
    "    thresh = cm.max() / 1.5 if normalize else cm.max() / 2\n",
    "    for i, j in itertools.product(range(cm.shape[0]), range(cm.shape[1])):\n",
    "        if normalize:\n",
    "            plt.text(j, i, \"{:0.4f}\".format(cm[i, j]),\n",
    "                     horizontalalignment=\"center\",\n",
    "                     color=\"white\" if cm[i, j] > thresh else \"black\")\n",
    "        else:\n",
    "            plt.text(j, i, \"{:,}\".format(cm[i, j]),\n",
    "                     horizontalalignment=\"center\",\n",
    "                     color=\"white\" if cm[i, j] > thresh else \"black\")\n",
    "\n",
    "\n",
    "    plt.tight_layout()\n",
    "    plt.ylabel('True label')\n",
    "    plt.xlabel('Predicted label\\naccuracy={:0.4f}; misclass={:0.4f}'.format(accuracy, misclass))\n",
    "    plt.show()"
   ]
  },
  {
   "cell_type": "code",
   "execution_count": 4,
   "metadata": {},
   "outputs": [],
   "source": [
    "from keras.layers import Dense, Embedding, LSTM, GRU, GlobalAveragePooling1D, GlobalMaxPooling1D, Conv1D, Input, MaxPooling1D, concatenate, Dropout\n",
    "from keras import Model, Sequential\n",
    "\n",
    "def dense(X_train):\n",
    "    model = Sequential()\n",
    "    model.add(Dense(500, activation=\"relu\", input_shape=(X_train.shape[1],)))\n",
    "    model.add(Dense(100, activation=\"relu\"))\n",
    "    model.add(Dense(1, activation=\"sigmoid\"))\n",
    "    return model\n",
    "\n",
    "def gap_model(X_train):\n",
    "    model = Sequential()\n",
    "    model.add(Embedding(-1, 32))\n",
    "    model.add(GlobalAveragePooling1D())\n",
    "    model.add(Dense(32, activation=\"relu\"))\n",
    "    model.add(Dense(1, activation=\"sigmoid\"))\n",
    "    return model\n",
    "\n",
    "def conv_rnn_model(X_train):\n",
    "    model = Sequential()\n",
    "    model.add(Embedding(embedding.input_dim, embedding.output_dim, weights=embedding.get_weights()))\n",
    "    model.add(Conv1D(filters=32, kernel_size=3, padding='valid', activation='relu'))\n",
    "    model.add(MaxPooling1D(pool_size=2))\n",
    "    model.add(LSTM(50))\n",
    "    model.add(Dense(1, activation=\"sigmoid\"))\n",
    "    return model\n",
    "\n",
    "def rnn_model(X_train):\n",
    "    model = Sequential()\n",
    "    model.add(Embedding(-1, 16))\n",
    "    model.add(LSTM(100))\n",
    "    model.add(Dense(1, activation='sigmoid'))\n",
    "    return model\n",
    "\n",
    "def zhang_cnn(X_train):\n",
    "    # Zhang 2018a\n",
    "    # https://arxiv.org/pdf/1803.03662.pdf\n",
    "    n_filters = 100\n",
    "\n",
    "    inputs = Input(shape=(X_train.shape[1], X_train.shape[2], ))\n",
    "    embedding = inputs\n",
    "    #inputs = Input(shape=(X_train.shape[1], ))\n",
    "    #embedding = Embedding(input_dim=10000, output_dim=200, input_length=X_train.shape[1], embeddings_initializer=\"random_uniform\")(inputs)\n",
    "    c1 = Conv1D(filters=n_filters, kernel_size=2, strides=1, padding='same', activation='relu')(embedding)\n",
    "    c1 = MaxPooling1D(pool_size=4, strides=4)(c1)\n",
    "    c2 = Conv1D(filters=n_filters, kernel_size=3, strides=1, padding='same', activation='relu')(embedding)\n",
    "    c2 = MaxPooling1D(pool_size=4, strides=4)(c2)\n",
    "    c3 = Conv1D(filters=n_filters, kernel_size=4, strides=1, padding='same', activation='relu')(embedding)\n",
    "    c3 = MaxPooling1D(pool_size=4, strides=4)(c3)\n",
    "\n",
    "    c4 = Conv1D(filters=n_filters, kernel_size=2, strides=1, padding='same', activation='relu', dilation_rate=2)(embedding)\n",
    "    c4 = MaxPooling1D(pool_size=4, strides=4)(c4)\n",
    "    c5 = Conv1D(filters=n_filters, kernel_size=2, strides=1, padding='same', activation='relu', dilation_rate=3)(embedding)\n",
    "    c5 = MaxPooling1D(pool_size=4, strides=4)(c5)\n",
    "\n",
    "    x = concatenate([c1,c2,c3,c4,c5], axis=1)\n",
    "    x = GlobalMaxPooling1D()(x)\n",
    "    outputs = Dense(1, activation=\"sigmoid\")(x)\n",
    "\n",
    "    model = Model(inputs=inputs, outputs=outputs)\n",
    "    return model\n",
    "\n",
    "\n",
    "def zhang_cnn_nodil(X_train):\n",
    "    # Zhang 2018a\n",
    "    # https://arxiv.org/pdf/1803.03662.pdf\n",
    "    n_filters = 100\n",
    "\n",
    "    inputs = Input(shape=(X_train.shape[1], X_train.shape[2], ))\n",
    "    embedding = inputs\n",
    "    #inputs = Input(shape=(X_train.shape[1], ))\n",
    "    #embedding = Embedding(input_dim=10000, output_dim=200, input_length=X_train.shape[1], embeddings_initializer=\"random_uniform\")(inputs)\n",
    "    c1 = Conv1D(filters=n_filters, kernel_size=2, strides=1, padding='same', activation='relu')(embedding)\n",
    "    c1 = MaxPooling1D(pool_size=4, strides=4)(c1)\n",
    "    c2 = Conv1D(filters=n_filters, kernel_size=3, strides=1, padding='same', activation='relu')(embedding)\n",
    "    c2 = MaxPooling1D(pool_size=4, strides=4)(c2)\n",
    "    c3 = Conv1D(filters=n_filters, kernel_size=4, strides=1, padding='same', activation='relu')(embedding)\n",
    "    c3 = MaxPooling1D(pool_size=4, strides=4)(c3)\n",
    "\n",
    "    x = concatenate([c1,c2,c3], axis=1)\n",
    "    x = GlobalMaxPooling1D()(x)\n",
    "    outputs = Dense(1, activation=\"sigmoid\")(x)\n",
    "\n",
    "    model = Model(inputs=inputs, outputs=outputs)\n",
    "    return model\n",
    "\n",
    "def zhang_gru_cnn(X_train):\n",
    "    # Zhang 2018a\n",
    "    # https://arxiv.org/pdf/1803.03662.pdf\n",
    "    inputs = Input(shape=(X_train.shape[1], X_train.shape[2],))\n",
    "\n",
    "    c1 = Conv1D(filters=100, kernel_size=2, strides=1, padding='same', activation='relu')(inputs)\n",
    "    c1 = MaxPooling1D(pool_size=4, strides=4)(c1)\n",
    "    c2 = Conv1D(filters=100, kernel_size=3, strides=1, padding='same', activation='relu')(inputs)\n",
    "    c2 = MaxPooling1D(pool_size=4, strides=4)(c2)\n",
    "    c3 = Conv1D(filters=100, kernel_size=4, strides=1, padding='same', activation='relu')(inputs)\n",
    "    c3 = MaxPooling1D(pool_size=4, strides=4)(c3)\n",
    "    x = concatenate([c1,c2,c3], axis=1)\n",
    "    x = GRU(100, return_sequences=True)(x)\n",
    "    x = GlobalMaxPooling1D()(x)\n",
    "    outputs = Dense(1, activation=\"sigmoid\")(x)\n",
    "\n",
    "    model = Model(inputs=inputs, outputs=outputs)\n",
    "    return model\n",
    "\n",
    "def zhang_gru_cnn_small(X_train):\n",
    "    # Zhang 2018b\n",
    "    # https://www.researchgate.net/profile/Ziqi_Zhang7/publication/325529410_Detecting_Hate_Speech_on_Twitter_Using_a_Convolution-GRU_Based_Deep_Neural_Network/links/5b1e321eaca272021cf59b29/Detecting-Hate-Speech-on-Twitter-Using-a-Convolution-GRU-Based-Deep-Neural-Network.pdf\n",
    "    inputs = Input(shape=(X_train.shape[1], X_train.shape[2],))\n",
    "    x = Dropout(.2)(inputs)\n",
    "\n",
    "    x = Conv1D(filters=100, kernel_size=4, strides=1, padding='same', activation='relu')(x)\n",
    "    x = MaxPooling1D(pool_size=4, strides=4)(x)\n",
    "    x = GRU(100, return_sequences=True)(x)\n",
    "    x = GlobalMaxPooling1D()(x)\n",
    "    outputs = Dense(1, activation=\"sigmoid\")(x)\n",
    "\n",
    "    model = Model(inputs=inputs, outputs=outputs)\n",
    "    return model"
   ]
  },
  {
   "cell_type": "code",
   "execution_count": 5,
   "metadata": {},
   "outputs": [],
   "source": [
    "emb = Word2Vec.load(W2V)"
   ]
  },
  {
   "cell_type": "code",
   "execution_count": 7,
   "metadata": {},
   "outputs": [],
   "source": [
    "author = 'wells'\n",
    "sample_size = 20000\n",
    "\n",
    "data = []\n",
    "data.extend([{'author': 1, 'text': s} for s in sample_sentences(sample_size, pjoin(AUTHORS, author, 'books'))])\n",
    "data.extend([{'author': 0, 'text': s} for s in sample_sentences(sample_size, GB_DOCS)])\n",
    "\n",
    "df = pd.DataFrame(data).drop_duplicates()"
   ]
  },
  {
   "cell_type": "code",
   "execution_count": 8,
   "metadata": {},
   "outputs": [],
   "source": [
    "glove_pipe = [\n",
    "    (\"clean\", apply(TextCleaner().fit_transform)),\n",
    "    (\"vectorizing\", apply(emb.wv.vectorize, flatten=True)),\n",
    "    (\"padding\", apply(pad, n=50))\n",
    "    ,(\"reshape\", apply(reshape, False))\n",
    "    ,(\"train_test_split\", apply(train_val_test_split, False, y=df['author'], val_size=0.1, test_size=.1, limit_testset=len(df)))\n",
    "]"
   ]
  },
  {
   "cell_type": "code",
   "execution_count": 50,
   "metadata": {},
   "outputs": [],
   "source": [
    "df.drop(35348, inplace=True)"
   ]
  },
  {
   "cell_type": "code",
   "execution_count": 43,
   "metadata": {},
   "outputs": [
    {
     "data": {
      "text/plain": [
       "35348    []\n",
       "Name: text, dtype: object"
      ]
     },
     "execution_count": 43,
     "metadata": {},
     "output_type": "execute_result"
    }
   ],
   "source": [
    "x[x.apply(np.shape).apply(len) == 1]"
   ]
  },
  {
   "cell_type": "code",
   "execution_count": 9,
   "metadata": {},
   "outputs": [
    {
     "name": "stdout",
     "output_type": "stream",
     "text": [
      "Pipe: clean\n",
      "Pipe: vectorizing\n",
      "Pipe: padding\n",
      "Pipe: reshape\n",
      "Pipe: train_test_split\n",
      "Train: 30191, Val: 3774, Test: 3774\n"
     ]
    }
   ],
   "source": [
    "X_train, y_train, X_val, y_val, X_test, y_test = pipe(df.text, glove_pipe)"
   ]
  },
  {
   "cell_type": "code",
   "execution_count": 10,
   "metadata": {},
   "outputs": [
    {
     "name": "stdout",
     "output_type": "stream",
     "text": [
      "Train on 30191 samples, validate on 3774 samples\n",
      "Epoch 1/6\n",
      "30191/30191 [==============================] - 11s 348us/step - loss: 0.8445 - acc: 0.6094 - val_loss: 0.7070 - val_acc: 0.6545\n",
      "Epoch 2/6\n",
      "30191/30191 [==============================] - 8s 277us/step - loss: 0.5867 - acc: 0.7158 - val_loss: 0.7080 - val_acc: 0.6577\n",
      "Epoch 3/6\n",
      "30191/30191 [==============================] - 8s 277us/step - loss: 0.4931 - acc: 0.7616 - val_loss: 0.6897 - val_acc: 0.6757\n",
      "Epoch 4/6\n",
      "30191/30191 [==============================] - 8s 277us/step - loss: 0.4287 - acc: 0.8042 - val_loss: 0.6920 - val_acc: 0.6831\n",
      "Epoch 5/6\n",
      "30191/30191 [==============================] - 8s 277us/step - loss: 0.3758 - acc: 0.8298 - val_loss: 0.7370 - val_acc: 0.6717\n",
      "Epoch 6/6\n",
      "30191/30191 [==============================] - 8s 278us/step - loss: 0.3173 - acc: 0.8630 - val_loss: 0.7518 - val_acc: 0.6834\n",
      "              precision    recall  f1-score   support\n",
      "\n",
      "           0       0.72      0.64      0.68      1995\n",
      "           1       0.64      0.72      0.68      1779\n",
      "\n",
      "   micro avg       0.68      0.68      0.68      3774\n",
      "   macro avg       0.68      0.68      0.68      3774\n",
      "weighted avg       0.68      0.68      0.68      3774\n",
      "\n"
     ]
    },
    {
     "data": {
      "image/png": "[encoded data removed]",
      "text/plain": [
       "<Figure size 360x360 with 2 Axes>"
      ]
     },
     "metadata": {},
     "output_type": "display_data"
    }
   ],
   "source": [
    "clf = train_keras_model(zhang_cnn, 6, 32, X_train, y_train, X_val, y_val)\n",
    "evaluate_model(clf, X_test, y_test)"
   ]
  },
  {
   "cell_type": "code",
   "execution_count": 11,
   "metadata": {},
   "outputs": [],
   "source": [
    "clf.save(pjoin(AUTHORS, author, 'parsed', 'clf.h5'))"
   ]
  },
  {
   "cell_type": "code",
   "execution_count": 42,
   "metadata": {},
   "outputs": [],
   "source": [
    "from keras.models import load_model\n",
    "from tst.preprocess.helper import nlp"
   ]
  },
  {
   "cell_type": "code",
   "execution_count": 36,
   "metadata": {},
   "outputs": [],
   "source": [
    "model = load_model(pjoin(AUTHORS, author, 'parsed', 'clf.h5'))"
   ]
  },
  {
   "cell_type": "code",
   "execution_count": 30,
   "metadata": {},
   "outputs": [
    {
     "data": {
      "text/plain": [
       "0.3991792"
      ]
     },
     "execution_count": 30,
     "metadata": {},
     "output_type": "execute_result"
    }
   ],
   "source": [
    "predict('This is a test.', model, emb.wv)"
   ]
  },
  {
   "cell_type": "code",
   "execution_count": 49,
   "metadata": {},
   "outputs": [
    {
     "name": "stdout",
     "output_type": "stream",
     "text": [
      "41129\n",
      "26876\n"
     ]
    }
   ],
   "source": [
    "aemb = KeyedVectors.load_word2vec_format(pjoin(AUTHORS, 'churchill', 'parsed', 'only.vec'))\n",
    "print(len(aemb.vocab))\n",
    "doc = nlp()(' '.join(aemb.vocab.keys()))\n",
    "print(len(set((w.lemma_ for w in doc))))"
   ]
  }
 ],
 "metadata": {
  "kernelspec": {
   "display_name": "Python 3",
   "language": "python",
   "name": "python3"
  },
  "language_info": {
   "codemirror_mode": {
    "name": "ipython",
    "version": 3
   },
   "file_extension": ".py",
   "mimetype": "text/x-python",
   "name": "python",
   "nbconvert_exporter": "python",
   "pygments_lexer": "ipython3",
   "version": "3.6.0"
  }
 },
 "nbformat": 4,
 "nbformat_minor": 2
}
