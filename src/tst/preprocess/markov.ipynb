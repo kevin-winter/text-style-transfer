{
 "cells": [
  {
   "cell_type": "code",
   "execution_count": 2,
   "metadata": {},
   "outputs": [
    {
     "name": "stdout",
     "output_type": "stream",
     "text": [
      "The autoreload extension is already loaded. To reload it, use:\n",
      "  %reload_ext autoreload\n"
     ]
    }
   ],
   "source": [
    "%load_ext autoreload\n",
    "%autoreload 2\n",
    "\n",
    "import logging\n",
    "import sys\n",
    "import os\n",
    "from os.path import join as pjoin\n",
    "sys.path.append('../../')\n",
    "\n",
    "from sklearn.pipeline import Pipeline\n",
    "from gensim.models import Word2Vec\n",
    "import markovify\n",
    "\n",
    "from tst.io import AUTHORS\n",
    "from tst.preprocess.parsing import find_anker_words\n",
    "from tst.preprocess.transformers import TextCleaner, TextFeatureExtractor\n",
    "from tst.preprocess.helper import configure_logging\n",
    "from tst.preprocess.markov import lexical_freq, pos_emission_prob, pos_markov_chain, vocabulary, beam_search, \\\n",
    "    LowerMarkovifyText, load_emission_probs, load_chain, load_pos_chain"
   ]
  },
  {
   "cell_type": "code",
   "execution_count": null,
   "metadata": {},
   "outputs": [],
   "source": [
    "mapping = lambda x: (x.tag_, #category\n",
    "                     x.is_stop, #starts_with_vowel(x.text), #bool\n",
    "                     x.i - x.sent.start, x.sent.end - x.i, len(x), lexical_freq(x.text)) #number\n",
    "\n",
    "class TextParser(Pipeline):\n",
    "    def __init__(self):\n",
    "        super().__init__([\n",
    "            (\"TextCleaner\",TextCleaner()),\n",
    "            (\"TextFeatureExtractor\", TextFeatureExtractor(mapping))\n",
    "        ])"
   ]
  },
  {
   "cell_type": "markdown",
   "metadata": {},
   "source": [
    "## Create"
   ]
  },
  {
   "cell_type": "code",
   "execution_count": null,
   "metadata": {},
   "outputs": [],
   "source": [
    "chains, pos_chains, emission_probs = {}, {}, {}\n",
    "for author in os.listdir(AUTHORS)[2:]:\n",
    "    chains[author], pos_chains[author] = pos_markov_chain(author, state_size=3)\n",
    "    emission_probs[author] = pos_emission_prob(author)\n",
    "    #g = markov_to_graph(pos_chain)"
   ]
  },
  {
   "cell_type": "code",
   "execution_count": null,
   "metadata": {},
   "outputs": [],
   "source": [
    "dicts = {}\n",
    "for author in os.listdir(AUTHORS):\n",
    "    if author == 'all':\n",
    "        w2v = Word2Vec.load(\"../data/all/parsed/gutenberg_w2v_5e.model\")\n",
    "        vocab = {k: v.count for k, v in w2v.wv.vocab.items()}\n",
    "    else:\n",
    "        chain = chains['author']\n",
    "        vocab = vocabulary(chain)\n",
    "    size = sum(vocab.values())\n",
    "    sortvocab = {k: vocab[k]/size for k in sorted(vocab, key=vocab.get, reverse=True)}\n",
    "    dicts[author] = sortvocab\n",
    "    with open(pjoin(AUTHORS, author, 'parsed', 'dict.txt'), 'w') as f:\n",
    "        f.writelines(map(lambda x: '{} {}\\n'.format(x[0], x[1]), sortvocab.items()))"
   ]
  },
  {
   "cell_type": "code",
   "execution_count": 102,
   "metadata": {},
   "outputs": [],
   "source": [
    "for author in os.listdir(AUTHORS):\n",
    "    if author == 'all':\n",
    "        continue\n",
    "        \n",
    "    with open(pjoin(AUTHORS, author, 'parsed', 'ankers.txt'), 'w') as f:\n",
    "        anker_words = find_anker_words(dicts['all'], dicts[author])\n",
    "        for word in anker_words.keys():\n",
    "            f.write(f'{word} {word}\\n')"
   ]
  },
  {
   "cell_type": "markdown",
   "metadata": {},
   "source": [
    "## Read"
   ]
  },
  {
   "cell_type": "code",
   "execution_count": null,
   "metadata": {},
   "outputs": [],
   "source": [
    "chains, pos_chains, emission_probs = {}, {}, {}\n",
    "for author in os.listdir(AUTHORS):\n",
    "    chains[author] = load_chain(author)\n",
    "    pos_chains[author] = load_pos_chain(author)\n",
    "    emission_probs[author] = load_emission_probs(author)"
   ]
  },
  {
   "cell_type": "markdown",
   "metadata": {},
   "source": [
    "## Evaluate"
   ]
  },
  {
   "cell_type": "code",
   "execution_count": null,
   "metadata": {},
   "outputs": [],
   "source": [
    "input_sent = 'It is a truth universally acknowledged that a single man in possession of a good fortune must be in want of a wife.'\n",
    "# words = translate(input_sent, src_emb, target_emb)\n",
    "\n",
    "words = ['war', 'men', 'created']\n",
    "probs = beam_search(chain, pos_chain, words, \n",
    "                    beam_size=10, \n",
    "                    word_trans_weight=1, \n",
    "                    emission_weight=1, \n",
    "                    context_weight=.2, \n",
    "                    eos_norm_weight=0, \n",
    "                    len_norm_weight=.05,\n",
    "                    smoothing_prob=1e-6,\n",
    "                    variable_length=True)"
   ]
  }
 ],
 "metadata": {
  "kernelspec": {
   "display_name": "Python 3",
   "language": "python",
   "name": "python3"
  },
  "language_info": {
   "codemirror_mode": {
    "name": "ipython",
    "version": 3
   },
   "file_extension": ".py",
   "mimetype": "text/x-python",
   "name": "python",
   "nbconvert_exporter": "python",
   "pygments_lexer": "ipython3",
   "version": "3.6.8"
  },
  "pycharm": {
   "stem_cell": {
    "cell_type": "raw",
    "metadata": {
     "collapsed": false
    },
    "source": []
   }
  }
 },
 "nbformat": 4,
 "nbformat_minor": 2
}
