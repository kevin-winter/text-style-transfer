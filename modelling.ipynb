{
 "cells": [
  {
   "cell_type": "code",
   "execution_count": 1,
   "metadata": {},
   "outputs": [
    {
     "name": "stderr",
     "output_type": "stream",
     "text": [
      "Using TensorFlow backend.\n",
      "c:\\users\\kevin\\appdata\\local\\programs\\python\\python36\\lib\\site-packages\\gensim\\utils.py:1209: UserWarning: detected Windows; aliasing chunkize to chunkize_serial\n",
      "  warnings.warn(\"detected Windows; aliasing chunkize to chunkize_serial\")\n"
     ]
    }
   ],
   "source": [
    "from keras import *\n",
    "from keras.layers import Conv2D, MaxPooling2D, Input\n",
    "from gensim.models import Word2Vec\n",
    "import spacy\n",
    "nlp = spacy.load('en')\n",
    "\n",
    "from collections import defaultdict as dd"
   ]
  },
  {
   "cell_type": "code",
   "execution_count": 5,
   "metadata": {},
   "outputs": [],
   "source": [
    "def InceptionModule(x):\n",
    "    tower_1 = Conv2D(64, (x.shape[1], 1), padding='valid', activation='relu')(x)\n",
    "    tower_1 = Conv2D(64, (x.shape[1], 3), padding='valid', activation='relu')(tower_1)\n",
    "\n",
    "    tower_2 = Conv2D(64, (x.shape[1], 1), padding='valid', activation='relu')(x)\n",
    "    tower_2 = Conv2D(64, (x.shape[1], 5), padding='valid', activation='relu')(tower_2)\n",
    "\n",
    "    tower_3 = MaxPooling2D((x.shape[1], 3), strides=(1, 1), padding='valid')(x)\n",
    "    tower_3 = Conv2D(64, (x.shape[1], 1), padding='valid', activation='relu')(tower_3)\n",
    "    \n",
    "    tower_4 = Conv2D(64, (x.shape[1], 1), padding='valid', activation='relu')(x)\n",
    "\n",
    "    return keras.layers.concatenate([tower_1, tower_2, tower_3, tower_4], axis=1)"
   ]
  },
  {
   "cell_type": "code",
   "execution_count": null,
   "metadata": {},
   "outputs": [],
   "source": [
    "w2v = Word2Vec.load(\"./models/gutenberg_w2v.model\")\n",
    "embedding = w2v.wv.get_keras_embedding()"
   ]
  },
  {
   "cell_type": "code",
   "execution_count": null,
   "metadata": {},
   "outputs": [],
   "source": [
    "inputs = Input(shape=(3, 96, 96))\n",
    "x = embedding(inputs)\n",
    "x = InceptionModule(x)\n",
    "x = InceptionModule(x)\n",
    "x = Flatten()(x)\n",
    "outputs = Dense(2, activation='softmax')(x)\n",
    "\n",
    "model = Model(input=inputs, output=outputs)"
   ]
  },
  {
   "cell_type": "code",
   "execution_count": null,
   "metadata": {},
   "outputs": [],
   "source": [
    "model.compile(optimizer='rmsprop',\n",
    "              loss='categorical_crossentropy',\n",
    "              metrics=['accuracy'])"
   ]
  },
  {
   "cell_type": "code",
   "execution_count": null,
   "metadata": {},
   "outputs": [],
   "source": []
  }
 ],
 "metadata": {
  "kernelspec": {
   "display_name": "Python 3",
   "language": "python",
   "name": "python3"
  },
  "language_info": {
   "codemirror_mode": {
    "name": "ipython",
    "version": 3
   },
   "file_extension": ".py",
   "mimetype": "text/x-python",
   "name": "python",
   "nbconvert_exporter": "python",
   "pygments_lexer": "ipython3",
   "version": "3.6.0"
  }
 },
 "nbformat": 4,
 "nbformat_minor": 2
}
