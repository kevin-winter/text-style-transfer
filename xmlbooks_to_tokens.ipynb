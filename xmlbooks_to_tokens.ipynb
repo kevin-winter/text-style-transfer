{
 "cells": [
  {
   "cell_type": "code",
   "execution_count": 1,
   "metadata": {},
   "outputs": [],
   "source": [
    "import os\n",
    "import numpy as np\n",
    "from bs4 import BeautifulSoup as BS\n",
    "from nltk.tokenize import word_tokenize, sent_tokenize\n",
    "import pickle as pkl"
   ]
  },
  {
   "cell_type": "code",
   "execution_count": 7,
   "metadata": {},
   "outputs": [],
   "source": [
    "def get_text(file):\n",
    "    bs_file = BS(file, from_encoding=\"UTF-8\")\n",
    "    return bs_file.find(\"text\").getText()\n",
    "\n",
    "def tokenize(text):\n",
    "    return list(map(word_tokenize, sent_tokenize(text.lower())))\n",
    "\n",
    "def percentile_action(i, N, p, f, *fargs):\n",
    "    if not i%np.ceil(N*p/100) or i==N:\n",
    "        return f(i,N,p,fargs)\n",
    "    else: \n",
    "        return False\n",
    "\n",
    "def save_sents(i,N,p,args):\n",
    "    percent = i*100//N\n",
    "    print(\"{:3d}% parsed\".format(percent))\n",
    "    \n",
    "    try:\n",
    "        os.mkdir(\"tokens\")\n",
    "    except:\n",
    "        pass\n",
    "    \n",
    "    with open(\"tokens/w2v_tokens_{}.pkl\".format(percent//p), \"wb\") as out:\n",
    "        pkl.dump(args[0], out)\n",
    "    \n",
    "    return True\n",
    "\n",
    "def xml_to_tokens(path):\n",
    "    files = os.listdir(filepath)\n",
    "    nr_files = len(files)\n",
    "    sents = []\n",
    "    \n",
    "    for i, fname in enumerate(files):\n",
    "        with open(path + fname, \"r\", encoding=\"utf8\") as file:\n",
    "            try:\n",
    "                sents += tokenize(get_text(file))\n",
    "            except:\n",
    "                print(\"Could not parse '{}'\".format(fname))\n",
    "\n",
    "        if percentile_action(i+1, nr_files, 10, save_sents, sents):\n",
    "            sents = []"
   ]
  },
  {
   "cell_type": "code",
   "execution_count": 11,
   "metadata": {},
   "outputs": [],
   "source": [
    "filepath = \"C:/Users/kevin/Downloads/GutenTag-master/GutenTag-master/out2/\""
   ]
  },
  {
   "cell_type": "code",
   "execution_count": 4,
   "metadata": {},
   "outputs": [
    {
     "name": "stdout",
     "output_type": "stream",
     "text": [
      "Already up-to-date.\n"
     ]
    },
    {
     "name": "stderr",
     "output_type": "stream",
     "text": [
      "From https://github.com/kevin-winter/text-style-transfer\n",
      " * branch            HEAD       -> FETCH_HEAD\n"
     ]
    }
   ],
   "source": [
    "!git pull https://kevin-winter:@github.com/kevin-winter/text-style-transfer"
   ]
  },
  {
   "cell_type": "code",
   "execution_count": 13,
   "metadata": {},
   "outputs": [
    {
     "data": {
      "text/plain": [
       "['Logon failed, use ctrl+c to cancel basic credential prompt.',\n",
       " 'bash: /dev/tty: No such device or address',\n",
       " 'error: failed to execute prompt script (exit code 1)',\n",
       " \"fatal: could not read Username for 'https://github.com/': Invalid argument\"]"
      ]
     },
     "execution_count": 13,
     "metadata": {},
     "output_type": "execute_result"
    }
   ],
   "source": [
    "!!\"C:\\Program Files\\Git\\bin\\sh.exe\" --login -c \"git pull\""
   ]
  }
 ],
 "metadata": {
  "kernelspec": {
   "display_name": "Python 3",
   "language": "python",
   "name": "python3"
  },
  "language_info": {
   "codemirror_mode": {
    "name": "ipython",
    "version": 3
   },
   "file_extension": ".py",
   "mimetype": "text/x-python",
   "name": "python",
   "nbconvert_exporter": "python",
   "pygments_lexer": "ipython3",
   "version": "3.6.0"
  }
 },
 "nbformat": 4,
 "nbformat_minor": 2
}
