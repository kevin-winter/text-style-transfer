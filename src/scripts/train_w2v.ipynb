{
 "cells": [
  {
   "cell_type": "code",
   "execution_count": 8,
   "metadata": {},
   "outputs": [],
   "source": [
    "%%capture\n",
    "\n",
    "import os\n",
    "import sys\n",
    "from os.path import join as pjoin\n",
    "import pickle as pkl\n",
    "\n",
    "from gensim.models.word2vec import Word2Vec\n",
    "from gensim.models.keyedvectors import KeyedVectors\n",
    "\n",
    "sys.path.append('..')\n",
    "from tst.preprocess.w2v_extensions import *\n",
    "from tst.preprocess.corpus import CorpusStreamer\n",
    "from tst.io import AUTHORS"
   ]
  },
  {
   "cell_type": "code",
   "execution_count": 9,
   "metadata": {},
   "outputs": [
    {
     "data": {
      "text/plain": [
       "'/mnt/c/Users/kevin/Documents/workspace/text-style-transfer/data/authors'"
      ]
     },
     "execution_count": 9,
     "metadata": {},
     "output_type": "execute_result"
    }
   ],
   "source": []
  },
  {
   "cell_type": "code",
   "execution_count": null,
   "metadata": {},
   "outputs": [],
   "source": [
    "# create and train\n",
    "for author in os.listdir(AUTHORS):\n",
    "    if author == 'all':\n",
    "        continue\n",
    "    stream = CorpusStreamer(pjoin(AUTHORS, author))\n",
    "    w2v = Word2Vec.create_and_train(stream, epochs=20)\n",
    "    w2v.wv.save_word2vec_format(pjoin(AUTHORS, author, 'parsed', 'only.vec'))"
   ]
  },
  {
   "cell_type": "code",
   "execution_count": null,
   "metadata": {},
   "outputs": [],
   "source": [
    "# load and tune\n",
    "for author in os.listdir(AUTHORS):\n",
    "    if author == 'all':\n",
    "        continue\n",
    "    w2v = Word2Vec.load(\"./w2v_models/gutenberg_w2v_5e.model\")\n",
    "    stream = CorpusStreamer(f'../DataAcquisition/data/{author}/')\n",
    "    w2v.build_vocab(stream, update=True)\n",
    "    w2v.train(stream, total_examples=sum(1 for x in stream), epochs = 20)\n",
    "    w2v.save(f'../DataAcquisition/data/{author}/parsed/tuned.model')"
   ]
  },
  {
   "cell_type": "code",
   "execution_count": 71,
   "metadata": {},
   "outputs": [
    {
     "name": "stdout",
     "output_type": "stream",
     "text": [
      "chesterton\n",
      "darwin\n",
      "dickens\n",
      "verne\n",
      "wells\n"
     ]
    }
   ],
   "source": [
    "# shrink embeddings\n",
    "for author in os.listdir(AUTHORS):\n",
    "    print(author)\n",
    "    author_path = pjoin(AUTHORS, author, 'parsed')\n",
    "    Word2Vec.load(pjoin(author_path, 'tuned.model')).wv\\\n",
    "        .save_word2vec_format_reduced(pjoin(author_path, 'reduced.vec'),\n",
    "                                     words=pjoin(author_path, 'dict.txt'),\n",
    "                                     topn=2e5)"
   ]
  },
  {
   "cell_type": "code",
   "execution_count": 11,
   "metadata": {},
   "outputs": [],
   "source": [
    "vecs = {}\n",
    "for author in os.listdir(AUTHORS):\n",
    "    try:\n",
    "        vecs[author] = KeyedVectors.load_word2vec_format(pjoin(AUTHORS, author, 'parsed', 'only.vec'))\n",
    "    except:\n",
    "        pass"
   ]
  },
  {
   "cell_type": "code",
   "execution_count": 45,
   "metadata": {},
   "outputs": [
    {
     "name": "stdout",
     "output_type": "stream",
     "text": [
      "chesterton 36362 23362\n",
      "darwin 51073 32255\n",
      "dickens 57299 32335\n",
      "verne 48837 32598\n",
      "wells 53757 32793\n"
     ]
    }
   ],
   "source": [
    "for k,v in vecs.items():\n",
    "    print(k, len(v.vocab), np.unique([w.lemma_ for w in nlp(' '.join(v.vocab.keys())) if w.is_alpha]).size)"
   ]
  },
  {
   "cell_type": "code",
   "execution_count": 56,
   "metadata": {},
   "outputs": [
    {
     "data": {
      "text/plain": [
       "'/mnt/c/Users/kevin/Documents/workspace/text-style-transfer/data/authors/churchill'"
      ]
     },
     "execution_count": 56,
     "metadata": {},
     "output_type": "execute_result"
    }
   ],
   "source": [
    "pjoin(AUTHORS, author)"
   ]
  },
  {
   "cell_type": "code",
   "execution_count": 60,
   "metadata": {},
   "outputs": [
    {
     "name": "stderr",
     "output_type": "stream",
     "text": [
      "WARNING:smart_open.smart_open_lib:this function is deprecated, use smart_open.open instead\n"
     ]
    }
   ],
   "source": [
    "author = 'twain'\n",
    "stream = CorpusStreamer(pjoin(AUTHORS, author, 'books'))\n",
    "w2v = Word2Vec(size=100, window=5, min_count=1, workers=4)\n",
    "w2v.build_vocab(stream)\n",
    "w2v.train(stream, total_examples=w2v.corpus_count, epochs=20)\n",
    "w2v.wv.save_word2vec_format(pjoin(AUTHORS, author, 'parsed', 'only.vec'))"
   ]
  }
 ],
 "metadata": {
  "kernelspec": {
   "display_name": "Python 3",
   "language": "python",
   "name": "python3"
  },
  "language_info": {
   "codemirror_mode": {
    "name": "ipython",
    "version": 3
   },
   "file_extension": ".py",
   "mimetype": "text/x-python",
   "name": "python",
   "nbconvert_exporter": "python",
   "pygments_lexer": "ipython3",
   "version": "3.6.8"
  }
 },
 "nbformat": 4,
 "nbformat_minor": 2
}
