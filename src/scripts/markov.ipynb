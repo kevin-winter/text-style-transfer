{
 "cells": [
  {
   "cell_type": "code",
   "execution_count": 13,
   "metadata": {},
   "outputs": [
    {
     "name": "stdout",
     "output_type": "stream",
     "text": [
      "The autoreload extension is already loaded. To reload it, use:\n",
      "  %reload_ext autoreload\n"
     ]
    }
   ],
   "source": [
    "%load_ext autoreload\n",
    "%autoreload 2\n",
    "\n",
    "import sys\n",
    "import os\n",
    "from os.path import join as pjoin\n",
    "sys.path.append('../')\n",
    "\n",
    "from gensim.models import Word2Vec\n",
    "\n",
    "from tst.io import AUTHORS\n",
    "from tst.preprocess.parsing import find_anker_words\n",
    "from tst.preprocess.markov import pos_emission_prob, pos_markov_chain, vocabulary, beam_search, \\\n",
    "    load_emission_probs, load_chain, load_pos_chain\n",
    "from tst.preprocess.translate import translate_to_author"
   ]
  },
  {
   "cell_type": "markdown",
   "metadata": {},
   "source": [
    "## Create"
   ]
  },
  {
   "cell_type": "code",
   "execution_count": null,
   "metadata": {},
   "outputs": [],
   "source": [
    "chains, pos_chains, emission_probs = {}, {}, {}\n",
    "for author in os.listdir(AUTHORS)[2:]:\n",
    "    chains[author], pos_chains[author] = pos_markov_chain(author, state_size=3)\n",
    "    emission_probs[author] = pos_emission_prob(author)\n",
    "    #g = markov_to_graph(pos_chain)"
   ]
  },
  {
   "cell_type": "code",
   "execution_count": null,
   "metadata": {},
   "outputs": [],
   "source": [
    "dicts = {}\n",
    "for author in os.listdir(AUTHORS):\n",
    "    if author == 'all':\n",
    "        w2v = Word2Vec.load(\"../data/all/parsed/gutenberg_w2v_5e.model\")\n",
    "        vocab = {k: v.count for k, v in w2v.wv.vocab.items()}\n",
    "    else:\n",
    "        chain = chains['author']\n",
    "        vocab = vocabulary(chain)\n",
    "    size = sum(vocab.values())\n",
    "    sortvocab = {k: vocab[k]/size for k in sorted(vocab, key=vocab.get, reverse=True)}\n",
    "    dicts[author] = sortvocab\n",
    "    with open(pjoin(AUTHORS, author, 'parsed', 'dict.txt'), 'w') as f:\n",
    "        f.writelines(map(lambda x: '{} {}\\n'.format(x[0], x[1]), sortvocab.items()))"
   ]
  },
  {
   "cell_type": "code",
   "execution_count": 102,
   "metadata": {},
   "outputs": [],
   "source": [
    "for author in os.listdir(AUTHORS):\n",
    "    if author == 'all':\n",
    "        continue\n",
    "        \n",
    "    with open(pjoin(AUTHORS, author, 'parsed', 'ankers.txt'), 'w') as f:\n",
    "        anker_words = find_anker_words(dicts['all'], dicts[author])\n",
    "        for word in anker_words.keys():\n",
    "            f.write(f'{word} {word}\\n')"
   ]
  },
  {
   "cell_type": "markdown",
   "metadata": {},
   "source": [
    "## Read"
   ]
  },
  {
   "cell_type": "code",
   "execution_count": 3,
   "metadata": {},
   "outputs": [],
   "source": [
    "chains, pos_chains, emission_probs = {}, {}, {}\n",
    "for author in os.listdir(AUTHORS):\n",
    "    if author == 'all':\n",
    "        continue\n",
    "    chains[author] = load_chain(author)\n",
    "    pos_chains[author] = load_pos_chain(author)\n",
    "    emission_probs[author] = load_emission_probs(author)"
   ]
  },
  {
   "cell_type": "markdown",
   "metadata": {},
   "source": [
    "## Evaluate"
   ]
  },
  {
   "cell_type": "code",
   "execution_count": 50,
   "metadata": {},
   "outputs": [
    {
     "data": {
      "text/plain": [
       "array(['it', 'is', 'a', 'truth', 'universally', 'admitted', 'that', 'a',\n",
       "       'single', 'man', 'in', 'possession', 'of', 'a', 'good', 'success',\n",
       "       'must', 'be', 'in', 'want', 'of', 'a', 'wife', '.'], dtype='<U11')"
      ]
     },
     "execution_count": 50,
     "metadata": {},
     "output_type": "execute_result"
    }
   ],
   "source": [
    "author = 'wells'\n",
    "\n",
    "input_sent = 'It is a truth universally acknowledged that a single man in possession of a good fortune must be in want of a wife.'\n",
    "words = translate_to_author(input_sent, author, .3)[0]\n",
    "# words = ['war', 'men', 'created']\n",
    "words"
   ]
  },
  {
   "cell_type": "code",
   "execution_count": 44,
   "metadata": {},
   "outputs": [
    {
     "name": "stdout",
     "output_type": "stream",
     "text": [
      "Finding a sentence took 200 tries.\n",
      "29\n"
     ]
    },
    {
     "name": "stderr",
     "output_type": "stream",
     "text": [
      "../tst/preprocess/markov.py:278: RuntimeWarning: divide by zero encountered in log\n",
      "  \n"
     ]
    },
    {
     "name": "stdout",
     "output_type": "stream",
     "text": [
      "a . any be chance diminution expect head-quarters expressed into it of is it\n"
     ]
    }
   ],
   "source": [
    "probs = beam_search(chains[author], \n",
    "                    pos_chains[author], \n",
    "                    emission_probs[author], \n",
    "                    words, \n",
    "                    \n",
    "                    beam_size=10, \n",
    "                    word_trans_weight=.4, \n",
    "                    emission_weight=.3, \n",
    "                    context_weight=.3, \n",
    "                    eos_norm_weight=0, \n",
    "                    len_norm_weight=.6,\n",
    "                    smoothing_prob=1e-6,\n",
    "                    variable_length=False)"
   ]
  }
 ],
 "metadata": {
  "kernelspec": {
   "display_name": "Python 3",
   "language": "python",
   "name": "python3"
  },
  "language_info": {
   "codemirror_mode": {
    "name": "ipython",
    "version": 3
   },
   "file_extension": ".py",
   "mimetype": "text/x-python",
   "name": "python",
   "nbconvert_exporter": "python",
   "pygments_lexer": "ipython3",
   "version": "3.6.8"
  },
  "pycharm": {
   "stem_cell": {
    "cell_type": "raw",
    "metadata": {
     "collapsed": false
    },
    "source": []
   }
  }
 },
 "nbformat": 4,
 "nbformat_minor": 2
}
