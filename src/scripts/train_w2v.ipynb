{
 "cells": [
  {
   "cell_type": "code",
   "execution_count": 1,
   "metadata": {},
   "outputs": [],
   "source": [
    "%%capture\n",
    "\n",
    "import os\n",
    "from os.path import join as pjoin\n",
    "\n",
    "from gensim.models.word2vec import Word2Vec\n",
    "from gensim.models.keyedvectors import KeyedVectors\n",
    "\n",
    "from w2v_extensions import *\n",
    "from corpus_helper import *\n",
    "from helper import *  \n",
    "import pickle as pkl\n",
    "from w2v_extensions import create_and_train\n",
    "from corpus_helper import CorpusStreamer\n",
    "init_config()\n",
    "\n",
    "xmlfolderpath = \"~/Downloads/GutenTag-master/GutenTag-master/out2\"\n",
    "folder_path = '../DataAcquisition/data/'"
   ]
  },
  {
   "cell_type": "code",
   "execution_count": null,
   "metadata": {},
   "outputs": [],
   "source": [
    "# create and train\n",
    "for author in os.listdir(folder_path):\n",
    "    if author == 'all':\n",
    "        continue\n",
    "    stream = CorpusStreamer(f'../DataAcquisition/data/{author}/')\n",
    "    w2v = Word2Vec.create_and_train(stream, epochs=20)\n",
    "    w2v.wv.save_word2vec_format(pjoin(folder_path, author, 'parsed', 'only.vec'))"
   ]
  },
  {
   "cell_type": "code",
   "execution_count": null,
   "metadata": {},
   "outputs": [],
   "source": [
    "# load and tune\n",
    "for author in os.listdir(folder_path):\n",
    "    if author == 'all':\n",
    "        continue\n",
    "    w2v = Word2Vec.load(\"./w2v_models/gutenberg_w2v_5e.model\")\n",
    "    stream = CorpusStreamer(f'../DataAcquisition/data/{author}/')\n",
    "    w2v.build_vocab(stream, update=True)\n",
    "    w2v.train(stream, total_examples=sum(1 for x in stream), epochs = 20)\n",
    "    w2v.save(f'../DataAcquisition/data/{author}/parsed/tuned.model')"
   ]
  },
  {
   "cell_type": "code",
   "execution_count": 71,
   "metadata": {},
   "outputs": [
    {
     "name": "stdout",
     "output_type": "stream",
     "text": [
      "chesterton\n",
      "darwin\n",
      "dickens\n",
      "verne\n",
      "wells\n"
     ]
    }
   ],
   "source": [
    "# shrink embeddings\n",
    "for author in os.listdir(folder_path):\n",
    "    print(author)\n",
    "    author_path = pjoin(folder_path, author, 'parsed')\n",
    "    Word2Vec.load(pjoin(author_path, 'tuned.model')).wv\\\n",
    "        .save_word2vec_format_reduced(pjoin(author_path, 'reduced.vec'),\n",
    "                                     words=pjoin(author_path, 'dict.txt'),\n",
    "                                     topn=2e5)"
   ]
  }
 ],
 "metadata": {
  "kernelspec": {
   "display_name": "Python 3",
   "language": "python",
   "name": "python3"
  },
  "language_info": {
   "codemirror_mode": {
    "name": "ipython",
    "version": 3
   },
   "file_extension": ".py",
   "mimetype": "text/x-python",
   "name": "python",
   "nbconvert_exporter": "python",
   "pygments_lexer": "ipython3",
   "version": "3.6.8"
  }
 },
 "nbformat": 4,
 "nbformat_minor": 2
}
