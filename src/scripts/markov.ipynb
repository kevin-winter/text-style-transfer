{
 "cells": [
  {
   "cell_type": "code",
   "execution_count": 77,
   "metadata": {},
   "outputs": [
    {
     "name": "stdout",
     "output_type": "stream",
     "text": [
      "The autoreload extension is already loaded. To reload it, use:\n",
      "  %reload_ext autoreload\n"
     ]
    }
   ],
   "source": [
    "%load_ext autoreload\n",
    "%autoreload 2\n",
    "\n",
    "import sys\n",
    "import os\n",
    "from os.path import join as pjoin\n",
    "sys.path.append('../')\n",
    "\n",
    "from gensim.models import Word2Vec, KeyedVectors\n",
    "\n",
    "from tst.io import AUTHORS, translation_embedding_dir\n",
    "from tst.preprocess.parsing import find_anker_words\n",
    "from tst.preprocess.markov import pos_emission_prob, pos_markov_chain, vocabulary, beam_search, \\\n",
    "    load_emission_probs, load_chain, load_pos_chain, beam_search2\n",
    "from tst.preprocess.translate import translate_to_author, translate\n",
    "from tst.preprocess.w2v_extensions import *"
   ]
  },
  {
   "cell_type": "markdown",
   "metadata": {},
   "source": [
    "## Create"
   ]
  },
  {
   "cell_type": "code",
   "execution_count": null,
   "metadata": {},
   "outputs": [],
   "source": [
    "chains, pos_chains, emission_probs = {}, {}, {}\n",
    "for author in os.listdir(AUTHORS)[2:]:\n",
    "    chains[author], pos_chains[author] = pos_markov_chain(author, state_size=3)\n",
    "    emission_probs[author] = pos_emission_prob(author)\n",
    "    #g = markov_to_graph(pos_chain)"
   ]
  },
  {
   "cell_type": "code",
   "execution_count": null,
   "metadata": {},
   "outputs": [],
   "source": [
    "dicts = {}\n",
    "for author in os.listdir(AUTHORS):\n",
    "    if author == 'all':\n",
    "        wv = Word2Vec.load(pjoin(AUTHORS, author, 'parsed', 'gutenberg_w2v_5e.model')).wv\n",
    "        vocab = {k: v.count for k, v in wv.vocab.items()}\n",
    "    else:\n",
    "        vocab = vocabulary(chains[author])\n",
    "#         wv = KeyedVectors.load_word2vec_format(pjoin(AUTHORS, author, 'parsed', 'only.vec'))\n",
    "#         vocab = {k: v.count for k, v in wv.vocab.items()}\n",
    "        \n",
    "    dicts[author] = normalize_dict(sorted(vocab, key=vocab.get, reverse=True))\n",
    "    with open(pjoin(AUTHORS, author, 'parsed', 'dict.txt'), 'w') as f:\n",
    "        f.writelines(map(lambda x: '{} {}\\n'.format(x[0], x[1]), dicts[author].items()))"
   ]
  },
  {
   "cell_type": "code",
   "execution_count": null,
   "metadata": {},
   "outputs": [],
   "source": [
    "for author in os.listdir(AUTHORS):\n",
    "    if author == 'all':\n",
    "        continue\n",
    "        \n",
    "    with open(pjoin(AUTHORS, author, 'parsed', 'ankers.txt'), 'w') as f:\n",
    "        anker_words = find_anker_words(dicts['all'], dicts[author])\n",
    "        for word in anker_words.keys():\n",
    "            f.write(f'{word} {word}\\n')"
   ]
  },
  {
   "cell_type": "markdown",
   "metadata": {},
   "source": [
    "## Load"
   ]
  },
  {
   "cell_type": "code",
   "execution_count": 16,
   "metadata": {},
   "outputs": [],
   "source": [
    "chains, pos_chains, emission_probs, embeddings = {}, {}, {}, {}\n",
    "for author in os.listdir(AUTHORS):\n",
    "    if author == 'all':\n",
    "        continue\n",
    "    \n",
    "    chains[author] = load_chain(author)\n",
    "    pos_chains[author] = load_pos_chain(author)\n",
    "    emission_probs[author] = load_emission_probs(author)\n",
    "    \n",
    "    folder = translation_embedding_dir(author)\n",
    "    embeddings[author] = [KeyedVectors.load_word2vec_format(pjoin(folder, 'vectors-all.txt')),\n",
    "                          KeyedVectors.load_word2vec_format(pjoin(folder, f'vectors-{author}.txt'))]"
   ]
  },
  {
   "cell_type": "markdown",
   "metadata": {},
   "source": [
    "## Evaluate"
   ]
  },
  {
   "cell_type": "code",
   "execution_count": 107,
   "metadata": {},
   "outputs": [
    {
     "data": {
      "text/plain": [
       "array(['it', 'is', 'a', 'truth', 'universally', 'expressed', 'that', 'a',\n",
       "       'any', 'neison', 'into', 'appearance', 'of', 'a', 'pleasant',\n",
       "       'chance', 'will', 'be', 'into', 'expect', 'of', 'a',\n",
       "       'black-necked', '.'], dtype='<U12')"
      ]
     },
     "execution_count": 107,
     "metadata": {},
     "output_type": "execute_result"
    }
   ],
   "source": [
    "author = 'darwin'\n",
    "\n",
    "input_sent = 'It is a truth universally acknowledged that a single man in possession of a good fortune must be in want of a wife.'\n",
    "words = translate(input_sent, embeddings[author][0], embeddings[author][1], .2)[0]\n",
    "words"
   ]
  },
  {
   "cell_type": "code",
   "execution_count": 96,
   "metadata": {},
   "outputs": [
    {
     "name": "stdout",
     "output_type": "stream",
     "text": [
      "['___BEGIN__', '___BEGIN__', '___BEGIN__']\n",
      "31196\n",
      "['___BEGIN__', '___BEGIN__', 'PRP_1_0_2_ROOT_0']\n",
      "0\n",
      "['___BEGIN__', '___BEGIN__', 'PRP_0_0_1_ROOT_0.']\n",
      "0\n",
      "['___BEGIN__', '___BEGIN__', 'UH_0_0_1_ROOT_0.']\n",
      "0\n",
      "['___BEGIN__', '___BEGIN__', 'UH_0_0_1_ROOT_0', ',_0_0_0_punct_1']\n",
      "0\n"
     ]
    },
    {
     "name": "stderr",
     "output_type": "stream",
     "text": [
      "../tst/preprocess/markov.py:370: RuntimeWarning: divide by zero encountered in log\n",
      "  sorted(layer_candidates, key=layer_candidates.get, reverse=True)[:beam_size]}\n"
     ]
    },
    {
     "name": "stdout",
     "output_type": "stream",
     "text": [
      "['___BEGIN__', 'UH_0_0_1_intj_0', ',_0_0_0_punct_1', 'PRP_1_0_2_ROOT_2']\n",
      "0\n",
      "['___BEGIN__', 'UH_0_0_1_intj_0', ',_0_0_0_punct_1', 'PRP_1_0_2_ROOT_2']\n",
      "0\n",
      "['___BEGIN__', 'UH_0_0_1_intj_0', ',_0_0_0_punct_1', 'VBD_0_0_1_ROOT_2']\n",
      "0\n",
      "['UH_0_0_1_intj_0', ',_0_0_0_punct_0', 'PRP_1_0_2_nsubj_1', 'VBP_0_0_1_ROOT_2']\n",
      "0\n",
      "['UH_0_0_1_intj_0', ',_0_0_0_punct_0', 'VBD_0_0_1_ROOT_1', 'PRP_0_0_1_intj_1.']\n",
      "0\n",
      "['VBD_0_0_1_ROOT_0', 'PRP_0_0_1_intj_1.', 'NN_0_1_0_ROOT_1', ',_0_0_0_punct_2']\n",
      "0\n",
      "['VBD_0_0_1_ROOT_0', 'PRP_0_0_1_intj_1.', 'NN_0_1_0_ROOT_1.']\n",
      "0\n",
      "['VBD_0_0_1_ROOT_0', 'NN_0_0_1_intj_1.', 'NN_0_1_1_ROOT_1', ',_0_0_0_punct_2']\n",
      "0\n",
      "['PRP_0_0_1_ROOT_0.', 'NN_0_1_0_dep_1', ',_0_0_0_punct_1', 'PRP_1_0_2_ROOT_2']\n",
      "0\n",
      "['PRP_0_0_1_ROOT_0.', 'NN_0_1_0_ROOT_1', ',_0_0_0_punct_1', 'WRB_1_0_1_advmod_2']\n",
      "0\n",
      "['NN_0_1_0_ROOT_0', ',_0_0_0_punct_0', 'WRB_1_0_1_prep_1', 'PRP_1_0_2_conj_2']\n",
      "0\n",
      "['NN_0_1_0_npadvmod_0', ',_0_0_0_punct_0', 'PRP_1_0_2_nsubj_1', 'VBP_0_2_1_ROOT_1.']\n",
      "0\n",
      "['NN_0_1_0_dep_0', ',_0_0_0_punct_0', 'PRP_1_0_2_nsubj_1', 'VBP_0_0_1_ROOT_2']\n",
      "0\n",
      "['WRB_1_0_1_advmod_0', 'PRP_1_0_2_nsubj_1', 'VBD_1_0_1_ROOT_2']\n",
      "0\n",
      "['PRP_1_0_2_nsubj_0', 'VBP_0_0_1_npadvmod_1', 'JJ_0_0_1_ROOT_2']\n",
      "0\n",
      "['LS_0_0_1_nsubj_0', 'JJ_0_0_1_ROOT_1', 'IN_1_0_2_prep_2']\n",
      "0\n",
      "['LS_0_0_1_npadvmod_0', 'JJ_0_0_1_ROOT_1', 'PRP_1_0_2_dobj_2']\n",
      "0\n",
      "['LS_0_0_1_npadvmod_0', 'JJ_0_0_1_ROOT_1.']\n",
      "0\n",
      "['JJ_0_0_1_ROOT_0', 'TO_1_0_2_aux_1', 'VB_1_0_1_xcomp_2']\n",
      "0\n",
      "['JJ_0_0_1_ROOT_0.', 'DT_1_0_2_punct_2']\n",
      "0\n",
      "['_0_0_0__0.', 'DT_1_0_2_det_1', 'NN_1_0_2_ROOT_2']\n",
      "0\n",
      "['_0_0_0__0.', 'DT_1_0_2_det_1', 'NN_0_1_1_ROOT_2']\n",
      "0\n",
      "['_0_0_0__0.', 'DT_1_0_2_det_1', 'JJ_0_0_1_ROOT_2']\n",
      "0\n",
      "['DT_1_0_2_nsubj_0', 'VB_1_0_2_ROOT_1', 'NN_0_1_1_attr_2']\n",
      "0\n",
      "['DT_1_0_2_nsubj_0', 'VB_1_0_2_ROOT_1', 'JJ_0_0_1_acomp_2']\n",
      "0\n",
      "['VB_1_0_2_ROOT_0', 'NN_0_1_1_nsubj_1', 'JJ_0_0_1_acomp_2']\n",
      "0\n",
      "['VB_1_0_2_ROOT_0', 'NN_0_1_1_attr_1', 'IN_1_0_2_prep_2']\n",
      "0\n",
      "['VB_1_0_2_csubj_0', 'NN_0_1_1_attr_1', 'VBZ_1_0_2_ROOT_2']\n",
      "0\n",
      "['NN_0_1_1_ROOT_0', 'JJ_0_0_1_amod_1', 'IN_1_0_2_prep_2']\n",
      "0\n",
      "['NN_0_1_1_compound_0', 'JJ_0_0_1_nsubj_1', 'VBZ_1_0_2_ROOT_2']\n",
      "0\n",
      "['JJ_0_0_1_acomp_0', 'IN_1_0_2_prep_1', 'VBZ_1_0_2_ROOT_2']\n",
      "0\n",
      "['JJ_0_0_1_ROOT_0', 'IN_1_0_2_prep_1', 'PRP_1_0_2_pobj_2']\n",
      "0\n",
      "['JJ_0_0_1_ROOT_0', 'IN_1_0_2_prep_1', 'NN_0_0_1_pobj_2']\n",
      "0\n",
      "yes, said mr. engel, i m glad . a be fortune good in is\n"
     ]
    }
   ],
   "source": [
    "probs = beam_search2(chains[author], \n",
    "                    pos_chains[author], \n",
    "                    emission_probs[author], \n",
    "                    words, \n",
    "                    \n",
    "                    beam_size=5, \n",
    "                    word_trans_weight=1, \n",
    "                    emission_weight=10, \n",
    "                    context_weight=0, \n",
    "                    eos_norm_weight=.8, \n",
    "                    len_norm_weight=.1,\n",
    "                    smoothing_prob=1e-1,\n",
    "                    variable_length=True)"
   ]
  }
 ],
 "metadata": {
  "kernelspec": {
   "display_name": "Python 3",
   "language": "python",
   "name": "python3"
  },
  "language_info": {
   "codemirror_mode": {
    "name": "ipython",
    "version": 3
   },
   "file_extension": ".py",
   "mimetype": "text/x-python",
   "name": "python",
   "nbconvert_exporter": "python",
   "pygments_lexer": "ipython3",
   "version": "3.6.8"
  },
  "pycharm": {
   "stem_cell": {
    "cell_type": "raw",
    "metadata": {
     "collapsed": false
    },
    "source": []
   }
  }
 },
 "nbformat": 4,
 "nbformat_minor": 2
}
