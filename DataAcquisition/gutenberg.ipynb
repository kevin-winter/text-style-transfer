{
 "cells": [
  {
   "cell_type": "code",
   "execution_count": 1,
   "metadata": {},
   "outputs": [],
   "source": [
    "from gutenberg import *\n",
    "import pandas as pd"
   ]
  },
  {
   "cell_type": "code",
   "execution_count": 2,
   "metadata": {},
   "outputs": [],
   "source": [
    "gb_path = \"/Volumes/PGDVD_2010_04_RC2\"\n",
    "xml_path = \"~/Downloads/GutenTag-master/GutenTag-master/out2\""
   ]
  },
  {
   "cell_type": "code",
   "execution_count": 4,
   "metadata": {
    "scrolled": true
   },
   "outputs": [
    {
     "data": {
      "text/plain": [
       "Author\n",
       "Various                                           1937\n",
       "                                                   761\n",
       "Anonymous                                          517\n",
       "Shakespeare, William, 1564-1616                    257\n",
       "Lytton, Edward Bulwer Lytton, Baron, 1803-1873     212\n",
       "Ebers, Georg, 1837-1898                            164\n",
       "Twain, Mark, 1835-1910                             154\n",
       "Parker, Gilbert, 1862-1932                         133\n",
       "Balzac, Honoré de, 1799-1850                       123\n",
       "Unknown                                            115\n",
       "Kingston, William Henry Giles, 1814-1880           114\n",
       "Jacobs, W. W. (William Wymark), 1863-1943          111\n",
       "Meredith, George, 1828-1909                        109\n",
       "Verne, Jules, 1828-1905                            104\n",
       "Motley, John Lothrop, 1814-1877                    103\n",
       "Howells, William Dean, 1837-1920                   100\n",
       "Ballantyne, R. M. (Robert Michael), 1825-1894       98\n",
       "Dickens, Charles, 1812-1870                         92\n",
       "Hawthorne, Nathaniel, 1804-1864                     89\n",
       "Pepys, Samuel, 1633-1703                            87\n",
       "Dumas père, Alexandre, 1802-1870                    85\n",
       "Fenn, George Manville, 1831-1909                    83\n",
       "Stevenson, Robert Louis, 1850-1894                  76\n",
       "Henty, G. A. (George Alfred), 1832-1902             76\n",
       "Trollope, Anthony, 1815-1882                        69\n",
       "James, Henry, 1843-1916                             67\n",
       "MacDonald, George, 1824-1905                        66\n",
       "Doyle, Arthur Conan, Sir, 1859-1930                 65\n",
       "Lang, Andrew, 1844-1912                             64\n",
       "Churchill, Winston, 1871-1947                       64\n",
       "                                                  ... \n",
       "McIntyre, John T.                                    1\n",
       "McIntosh, Maria J. (Maria Jane), 1803-1878           1\n",
       "McConnel, J. L.                                      1\n",
       "McConnell, Francis John, 1871-1953                   1\n",
       "McConnell, James R. (James Rogers), 1887-1917        1\n",
       "McConnell, James V., 1925-1990                       1\n",
       "McCormack, Mary A.                                   1\n",
       "McCracken, Elizabeth                                 1\n",
       "McCrae, John, 1872-1918                              1\n",
       "McCulloch-Williams, Martha, 1857?-                   1\n",
       "McCutcheon, John T., 1870-1949                       1\n",
       "McDonnell, Michael F. J.                             1\n",
       "McDougall, Henriette, 1817-1886                      1\n",
       "McFadden, Elizabeth Apthorp                          1\n",
       "McFadyen, John Edgar                                 1\n",
       "McFarland, J. Horace (John Horace), 1859-1948        1\n",
       "McFee, William, 1881-1966                            1\n",
       "McFeeters, J. C.                                     1\n",
       "McGaffey, Kenneth                                    1\n",
       "McGaw, Virginia                                      1\n",
       "McGee, W. J. (William John), 1853-1912               1\n",
       "McGibeny, Donald                                     1\n",
       "McGlashan, C. F. (Charles Fayette)                   1\n",
       "McGovern, John                                       1\n",
       "McGovern, John, 1850-1917                            1\n",
       "McGowan, Richard, 1958-                              1\n",
       "McGregor, Duncan, 1787-1881                          1\n",
       "McHarry, Samuel                                      1\n",
       "McIlwraith, Jean N. (Jean Newton), 1859-1938         1\n",
       "King, Alfred Castner                                 1\n",
       "Name: Title, dtype: int64"
      ]
     },
     "execution_count": 4,
     "metadata": {},
     "output_type": "execute_result"
    }
   ],
   "source": [
    "metadf = parse_metadata(gb_path)\n",
    "metadf.groupby(\"Author\").count()[\"Title\"].sort_values(ascending=False)"
   ]
  },
  {
   "cell_type": "code",
   "execution_count": 20,
   "metadata": {
    "scrolled": true
   },
   "outputs": [
    {
     "data": {
      "text/plain": [
       "author_fullname\n",
       "Kate Douglas Smith Wiggin                 31\n",
       "Victor [pseud.] Appleton                  31\n",
       "Mayne Reid                                31\n",
       "F. Marion (Francis Marion) Crawford       31\n",
       "Joseph A. (Joseph Alexander) Altsheler    30\n",
       "Thornton W. (Thornton Waldo) Burgess      30\n",
       "William Makepeace Thackeray               30\n",
       "Guy de Maupassant                         30\n",
       "Robert W. (Robert William) Chambers       30\n",
       "B. M. Bower                               29\n",
       "Frank Richard Stockton                    29\n",
       "Edith Wharton                             29\n",
       "Richard Francis Weymouth                  28\n",
       "L. T. Meade                               28\n",
       "Edgar Rice Burroughs                      27\n",
       "Jerome K. (Jerome Klapka) Jerome          27\n",
       "Plato                                     27\n",
       "George Barr McCutcheon                    27\n",
       "John Morley                               26\n",
       "Robert Smythe Hichens                     26\n",
       "Louisa May Alcott                         26\n",
       "Zane Grey                                 26\n",
       "Work Projects Administration              26\n",
       "Charles Darwin                            25\n",
       "James Oliver Curwood                      25\n",
       "John Galsworthy                           25\n",
       "Anna Katharine Green                      25\n",
       "Elizabeth Cleghorn Gaskell                24\n",
       "Susan Warner                              23\n",
       "Anatole France                            23\n",
       "Mary Roberts Rinehart                     23\n",
       "A. M. (Alice Muriel) Williamson           23\n",
       "Daniel Defoe                              23\n",
       "William MacLeod Raine                     22\n",
       "Michel de Montaigne                       22\n",
       "George Gissing                            22\n",
       "Harold Bindloss                           22\n",
       "Murray Leinster                           22\n",
       "Henry Van Dyke                            22\n",
       "graf Leo Tolstoy                          22\n",
       "Edward Bellamy                            21\n",
       "Beatrix Potter                            21\n",
       "Carolyn Wells                             21\n",
       "Emerson Hough                             21\n",
       "Francis Hopkinson Smith                   21\n",
       "William Carleton                          21\n",
       "Oliver Wendell Holmes                     21\n",
       "Mary Eleanor Wilkins Freeman              21\n",
       "Samuel Johnson                            20\n",
       "Laura Elizabeth Howe Richards             20\n",
       "Name: title, dtype: int64"
      ]
     },
     "execution_count": 20,
     "metadata": {},
     "output_type": "execute_result"
    }
   ],
   "source": [
    "metadf = parse_xml_metadata(xml_path)\n",
    "metadf.groupby(\"author_fullname\").count()[\"title\"].sort_values(ascending=False)[70:120]"
   ]
  },
  {
   "cell_type": "code",
   "execution_count": 21,
   "metadata": {},
   "outputs": [
    {
     "data": {
      "text/plain": [
       "28"
      ]
     },
     "execution_count": 21,
     "metadata": {},
     "output_type": "execute_result"
    }
   ],
   "source": [
    "selection = metadf[metadf[\"author_lastname\"] == \"Darwin\"]\n",
    "selection.shape[0]"
   ]
  },
  {
   "cell_type": "code",
   "execution_count": 22,
   "metadata": {},
   "outputs": [],
   "source": [
    "copy_files(selection, \"./data/darwin/\")"
   ]
  }
 ],
 "metadata": {
  "kernelspec": {
   "display_name": "Python 3",
   "language": "python",
   "name": "python3"
  },
  "language_info": {
   "codemirror_mode": {
    "name": "ipython",
    "version": 3
   },
   "file_extension": ".py",
   "mimetype": "text/x-python",
   "name": "python",
   "nbconvert_exporter": "python",
   "pygments_lexer": "ipython3",
   "version": "3.6.0"
  }
 },
 "nbformat": 4,
 "nbformat_minor": 2
}
