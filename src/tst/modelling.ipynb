{
 "cells": [
  {
   "cell_type": "code",
   "execution_count": 221,
   "metadata": {},
   "outputs": [
    {
     "name": "stdout",
     "output_type": "stream",
     "text": [
      "[nltk_data] Downloading package punkt to\n",
      "[nltk_data]     C:\\Users\\kevin\\AppData\\Roaming\\nltk_data...\n",
      "[nltk_data]   Package punkt is already up-to-date!\n"
     ]
    }
   ],
   "source": [
    "from keras.layers import Conv2D, MaxPooling2D, Input, Flatten, concatenate, Dense, Dropout\n",
    "from keras import Model\n",
    "from keras.callbacks import TensorBoard, EarlyStopping\n",
    "import keras.callbacks as kc\n",
    "import keras.backend as K\n",
    "\n",
    "from sklearn.preprocessing import LabelBinarizer\n",
    "from sklearn.model_selection import train_test_split\n",
    "from sklearn.metrics import confusion_matrix\n",
    "import time\n",
    "import numpy as np\n",
    "import sys\n",
    "import os\n",
    "\n",
    "sys.path.append(os.path.join(os.getcwd(),\"Preprocess\"))\n",
    "sys.path.append(os.path.join(os.getcwd(),\"DataAcquisition\"))\n",
    "\n",
    "from helper import *\n",
    "from transformers import *\n",
    "\n",
    "init_config()"
   ]
  },
  {
   "cell_type": "code",
   "execution_count": null,
   "metadata": {},
   "outputs": [],
   "source": [
    "def get_dummy_data():\n",
    "    X_a = np.ones((1000, 100, 146, 1))\n",
    "    y_a = np.array([[1,0]]*X_a.shape[0])\n",
    "\n",
    "    X_b = np.zeros((1000, 100, 146, 1))\n",
    "    y_b = np.array([[0,1]]*X_b.shape[0])\n",
    "\n",
    "    X = np.vstack((X_a,X_b))\n",
    "    y = np.concatenate((y_a,y_b))\n",
    "\n",
    "    return train_test_split(X, y, test_size=0.33, random_state=42, stratify=y)"
   ]
  },
  {
   "cell_type": "code",
   "execution_count": 144,
   "metadata": {},
   "outputs": [],
   "source": [
    "def InceptionModule1(x, nr_filters=16):\n",
    "    tower_1 = Conv2D(nr_filters, (1, x.shape[2].value), padding='same', activation='relu')(x)\n",
    "    tower_2 = Conv2D(nr_filters, (3, x.shape[2].value), padding='same', activation='relu')(x)\n",
    "    tower_3 = Conv2D(nr_filters, (5, x.shape[2].value), padding='same', activation='relu')(x)\n",
    "    \n",
    "    return concatenate([tower_1, tower_2, tower_3], axis=3)\n",
    "    \n",
    "\n",
    "def InceptionModule2(x, nr_filters = 16):\n",
    "    tower_1 = Conv2D(nr_filters, (1, x.shape[2].value), padding='same', activation='relu')(x)\n",
    "    \n",
    "    tower_2 = Conv2D(nr_filters, (1, x.shape[2].value), padding='same', activation='relu')(x)\n",
    "    tower_2 = Conv2D(nr_filters, (3, tower_2.shape[2].value), padding='same', activation='relu')(tower_2)\n",
    "    \n",
    "    tower_3 = Conv2D(nr_filters, (1, x.shape[2].value), padding='same', activation='relu')(x)\n",
    "    tower_3 = Conv2D(nr_filters, (5, tower_3.shape[2].value), padding='same', activation='relu')(tower_3)\n",
    "    \n",
    "    tower_4 = MaxPooling2D((3, 1), strides=(1, 1), padding='same')(x)\n",
    "    tower_4 = Conv2D(nr_filters, (1, tower_4.shape[2].value), padding='same', activation='relu')(tower_4)\n",
    "    \n",
    "    print(tower_1.shape)\n",
    "    print(tower_2.shape)\n",
    "    print(tower_3.shape)\n",
    "    print(tower_4.shape)\n",
    "    \n",
    "    return concatenate([tower_1, tower_2, tower_3, tower_4], axis=3)\n",
    "\n",
    "\n",
    "def ConvList(x):\n",
    "    x = Conv2D(16, (3, x.shape[2].value), padding='valid', activation='relu')(x)\n",
    "    print(x.shape)\n",
    "    x = Conv2D(16, (3, x.shape[2].value), padding='valid', activation='relu')(x)\n",
    "    print(x.shape)\n",
    "    x = Conv2D(16, (3, x.shape[2].value), padding='valid', activation='relu')(x)\n",
    "    print(x.shape)\n",
    "    return x"
   ]
  },
  {
   "cell_type": "code",
   "execution_count": 219,
   "metadata": {
    "scrolled": true
   },
   "outputs": [],
   "source": [
    "def create_model(X, y):\n",
    "    K.clear_session()\n",
    "\n",
    "    windowsize = X.shape[1]\n",
    "    feature_len = X.shape[2]\n",
    "\n",
    "    inputs = Input((windowsize, feature_len, 1, ))\n",
    "    x = inputs\n",
    "    x = Conv2D(16, (1, x.shape[2].value), padding='valid', activation='relu')(x)\n",
    "    x = InceptionModule2(x)\n",
    "    #x = ConvList(x)\n",
    "    x = MaxPooling2D((5, 1), strides=(2, 1), padding='valid')(x)\n",
    "    x = Dropout(.1)(x)\n",
    "    x = Flatten()(x)\n",
    "    x = Dense(100, activation=\"relu\")(x)\n",
    "    x = Dropout(.3)(x)\n",
    "    x = Dense(10, activation=\"relu\")(x)\n",
    "    x = Dense(y.shape[1], activation=\"softmax\")(x)\n",
    "    outputs = x\n",
    "\n",
    "    model = Model(inputs=inputs, outputs=outputs)\n",
    "\n",
    "    model.compile(optimizer='rmsprop',\n",
    "                  loss='categorical_crossentropy',\n",
    "                  metrics=['accuracy'])\n",
    "    \n",
    "    return model\n",
    "\n",
    "\n",
    "def train_model(model, X_train, y_train, epochs):\n",
    "    \n",
    "    tensorboard = kc.TensorBoard(log_dir=\"tensorboard/{}\".format(time.strftime(\"%y-%m-%d_%H-%M-%S\")), \n",
    "                                 write_images=True, histogram_freq = 1)\n",
    "    \n",
    "    #earlystopping = kc.EarlyStopping(monitor='val_loss', patience=5, restore_best_weights=True)\n",
    "    \n",
    "    model.fit(X_train, y_train, epochs=epochs, \n",
    "              validation_split=.2, \n",
    "              batch_size=32, \n",
    "              verbose=0,\n",
    "              callbacks=[tensorboard])\n",
    "\n",
    "\n",
    "def evaluate_model(model, X_test, y_test):\n",
    "    loss, metric = model.evaluate(X_test,y_test)\n",
    "    y_pred = model.predict(X_test)\n",
    "    cm = confusion_matrix(y_test.argmax(axis=1), y_pred.argmax(axis=1))\n",
    "    \n",
    "    print(\"\\nLoss: {} \\nMetric: {}\".format(loss, metric))\n",
    "    print(\"\\nConfusion Matrix:\")\n",
    "    for row in cm:\n",
    "        print(row)"
   ]
  },
  {
   "cell_type": "code",
   "execution_count": null,
   "metadata": {
    "scrolled": false
   },
   "outputs": [],
   "source": [
    "X_train, X_test, y_train, y_test = get_data([\"wells\", \"chesterton\"])"
   ]
  },
  {
   "cell_type": "code",
   "execution_count": null,
   "metadata": {
    "scrolled": true
   },
   "outputs": [
    {
     "name": "stdout",
     "output_type": "stream",
     "text": [
      "(?, 100, 1, 16)\n",
      "(?, 100, 1, 16)\n",
      "(?, 100, 1, 16)\n",
      "(?, 100, 1, 16)\n"
     ]
    }
   ],
   "source": [
    "model = create_model(X_train, y_train)\n",
    "train_model(model, X_train, y_train, epochs=20)\n",
    "evaluate_model(model, X_test, y_test)"
   ]
  },
  {
   "cell_type": "code",
   "execution_count": 213,
   "metadata": {
    "scrolled": false
   },
   "outputs": [
    {
     "name": "stdout",
     "output_type": "stream",
     "text": [
      "__________________________________________________________________________________________________\n",
      "Layer (type)                    Output Shape         Param #     Connected to                     \n",
      "==================================================================================================\n",
      "input_54 (InputLayer)           (None, 100, 166, 1)  0                                            \n",
      "__________________________________________________________________________________________________\n",
      "conv2d_298 (Conv2D)             (None, 100, 1, 16)   2672        input_54[0][0]                   \n",
      "__________________________________________________________________________________________________\n",
      "conv2d_300 (Conv2D)             (None, 100, 1, 16)   272         conv2d_298[0][0]                 \n",
      "__________________________________________________________________________________________________\n",
      "conv2d_302 (Conv2D)             (None, 100, 1, 16)   272         conv2d_298[0][0]                 \n",
      "__________________________________________________________________________________________________\n",
      "max_pooling2d_61 (MaxPooling2D) (None, 100, 1, 16)   0           conv2d_298[0][0]                 \n",
      "__________________________________________________________________________________________________\n",
      "conv2d_299 (Conv2D)             (None, 100, 1, 16)   272         conv2d_298[0][0]                 \n",
      "__________________________________________________________________________________________________\n",
      "conv2d_301 (Conv2D)             (None, 100, 1, 16)   784         conv2d_300[0][0]                 \n",
      "__________________________________________________________________________________________________\n",
      "conv2d_303 (Conv2D)             (None, 100, 1, 16)   1296        conv2d_302[0][0]                 \n",
      "__________________________________________________________________________________________________\n",
      "conv2d_304 (Conv2D)             (None, 100, 1, 16)   272         max_pooling2d_61[0][0]           \n",
      "__________________________________________________________________________________________________\n",
      "concatenate_46 (Concatenate)    (None, 100, 1, 64)   0           conv2d_299[0][0]                 \n",
      "                                                                 conv2d_301[0][0]                 \n",
      "                                                                 conv2d_303[0][0]                 \n",
      "                                                                 conv2d_304[0][0]                 \n",
      "__________________________________________________________________________________________________\n",
      "max_pooling2d_62 (MaxPooling2D) (None, 48, 1, 64)    0           concatenate_46[0][0]             \n",
      "__________________________________________________________________________________________________\n",
      "dropout_11 (Dropout)            (None, 48, 1, 64)    0           max_pooling2d_62[0][0]           \n",
      "__________________________________________________________________________________________________\n",
      "flatten_47 (Flatten)            (None, 3072)         0           dropout_11[0][0]                 \n",
      "__________________________________________________________________________________________________\n",
      "dense_115 (Dense)               (None, 100)          307300      flatten_47[0][0]                 \n",
      "__________________________________________________________________________________________________\n",
      "dropout_12 (Dropout)            (None, 100)          0           dense_115[0][0]                  \n",
      "__________________________________________________________________________________________________\n",
      "dense_116 (Dense)               (None, 10)           1010        dropout_12[0][0]                 \n",
      "__________________________________________________________________________________________________\n",
      "dense_117 (Dense)               (None, 2)            22          dense_116[0][0]                  \n",
      "==================================================================================================\n",
      "Total params: 314,172\n",
      "Trainable params: 314,172\n",
      "Non-trainable params: 0\n",
      "__________________________________________________________________________________________________\n"
     ]
    }
   ],
   "source": [
    "#model = create_model(X_train, y_train)\n",
    "model.summary()"
   ]
  },
  {
   "cell_type": "code",
   "execution_count": 216,
   "metadata": {},
   "outputs": [],
   "source": [
    "kc.TensorBoard?"
   ]
  },
  {
   "cell_type": "code",
   "execution_count": 208,
   "metadata": {},
   "outputs": [
    {
     "data": {
      "text/plain": [
       "'18-10-29_07-40-27'"
      ]
     },
     "execution_count": 208,
     "metadata": {},
     "output_type": "execute_result"
    }
   ],
   "source": [
    "time.strftime(\"%y-%m-%d_%H-%M-%S\")"
   ]
  }
 ],
 "metadata": {
  "kernelspec": {
   "display_name": "Python 3",
   "language": "python",
   "name": "python3"
  },
  "language_info": {
   "codemirror_mode": {
    "name": "ipython",
    "version": 3
   },
   "file_extension": ".py",
   "mimetype": "text/x-python",
   "name": "python",
   "nbconvert_exporter": "python",
   "pygments_lexer": "ipython3",
   "version": "3.6.0"
  }
 },
 "nbformat": 4,
 "nbformat_minor": 2
}
