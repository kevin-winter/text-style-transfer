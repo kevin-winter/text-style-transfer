{
 "cells": [
  {
   "cell_type": "code",
   "execution_count": 3,
   "metadata": {},
   "outputs": [],
   "source": [
    "from os.path import join as pjoin\n",
    "import sys\n",
    "sys.path.append('../../')\n",
    "\n",
    "from gensim.models import KeyedVectors\n",
    "\n",
    "from tst.preprocess.w2v_extensions import *\n",
    "from tst.io import LIBS"
   ]
  },
  {
   "cell_type": "code",
   "execution_count": 7,
   "metadata": {},
   "outputs": [],
   "source": [
    "main = KeyedVectors.load_word2vec_format(pjoin(LIBS, 'muse/dumped/debug/ruy9wq2h62/vectors-all.txt'))\n",
    "darwin = KeyedVectors.load_word2vec_format(pjoin(LIBS, 'muse/dumped/debug/ruy9wq2h62/vectors-darwin.txt'))\n",
    "\n",
    "\n",
    "# main = KeyedVectors.load_word2vec_format('../DataAcquisition/data/all/parsed/reduced.vec')\n",
    "# darwin = KeyedVectors.load_word2vec_format('../DataAcquisition/data/darwin/parsed/only.vec')"
   ]
  },
  {
   "cell_type": "code",
   "execution_count": 12,
   "metadata": {},
   "outputs": [],
   "source": [
    "sent = 'It is a truth universally acknowledged that a single man in possession of a good fortune must be in want of a wife.'"
   ]
  },
  {
   "cell_type": "code",
   "execution_count": 14,
   "metadata": {},
   "outputs": [],
   "source": [
    "def translate(sent, src_emb, target_emb, noise_level=.2):\n",
    "    return np.array([[translate_word(w, src_emb, target_emb, noise_level) for w in s] for s in tokenize(sent)])\n",
    "\n",
    "def translate_word(word, src_emb, target_emb, noise_level=.2):\n",
    "    vec = src_emb.vector_or_zeros(word)\n",
    "    if any(vec):\n",
    "        return target_emb.similar_by_vector(vec + np.random.normal(0, noise_level, src_emb.vector_size), 1)[0][0]\n",
    "    else:\n",
    "        return word"
   ]
  },
  {
   "cell_type": "code",
   "execution_count": null,
   "metadata": {},
   "outputs": [],
   "source": [
    "def translate_to_author(sent, author):\n",
    "    default_emb, author_emb = None, None\n",
    "    return translate(sent, default_emb, author_emb)"
   ]
  },
  {
   "cell_type": "code",
   "execution_count": 18,
   "metadata": {},
   "outputs": [
    {
     "data": {
      "text/plain": [
       "'it is a truth universally shown that a single man in congener of a good relief may be in appeal of a niece .'"
      ]
     },
     "execution_count": 18,
     "metadata": {},
     "output_type": "execute_result"
    }
   ],
   "source": [
    "' '.join(translate(sent, main, darwin, 0.5)[0])"
   ]
  }
 ],
 "metadata": {
  "kernelspec": {
   "display_name": "Python 3",
   "language": "python",
   "name": "python3"
  },
  "language_info": {
   "codemirror_mode": {
    "name": "ipython",
    "version": 3
   },
   "file_extension": ".py",
   "mimetype": "text/x-python",
   "name": "python",
   "nbconvert_exporter": "python",
   "pygments_lexer": "ipython3",
   "version": "3.6.8"
  },
  "pycharm": {
   "stem_cell": {
    "cell_type": "raw",
    "metadata": {
     "collapsed": false
    },
    "source": []
   }
  }
 },
 "nbformat": 4,
 "nbformat_minor": 2
}
