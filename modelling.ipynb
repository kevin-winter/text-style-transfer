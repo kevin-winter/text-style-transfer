{
 "cells": [
  {
   "cell_type": "code",
   "execution_count": 1,
   "metadata": {},
   "outputs": [
    {
     "name": "stderr",
     "output_type": "stream",
     "text": [
      "Using TensorFlow backend.\n",
      "c:\\users\\kevin\\appdata\\local\\programs\\python\\python36\\lib\\site-packages\\gensim\\utils.py:1209: UserWarning: detected Windows; aliasing chunkize to chunkize_serial\n",
      "  warnings.warn(\"detected Windows; aliasing chunkize to chunkize_serial\")\n"
     ]
    },
    {
     "name": "stdout",
     "output_type": "stream",
     "text": [
      "[nltk_data] Downloading package punkt to\n",
      "[nltk_data]     C:\\Users\\kevin\\AppData\\Roaming\\nltk_data...\n",
      "[nltk_data]   Package punkt is already up-to-date!\n"
     ]
    }
   ],
   "source": [
    "from keras.layers import Conv2D, MaxPooling2D, Input, Flatten, concatenate, Dense\n",
    "from keras import Model\n",
    "from sklearn.preprocessing import LabelBinarizer\n",
    "from sklearn.model_selection import train_test_split\n",
    "from sklearn.metrics import confusion_matrix\n",
    "import numpy as np\n",
    "import sys\n",
    "import os\n",
    "\n",
    "sys.path.append(os.path.join(os.getcwd(),\"Preprocess\"))\n",
    "sys.path.append(os.path.join(os.getcwd(),\"DataAcquisition\"))\n",
    "\n",
    "from helper import *\n",
    "from transformers import *\n",
    "\n",
    "init_config()"
   ]
  },
  {
   "cell_type": "code",
   "execution_count": 28,
   "metadata": {},
   "outputs": [],
   "source": [
    "def InceptionModule(x):\n",
    "    tower_1 = Conv2D(64, (1, x.shape[2].value), padding='valid', activation='relu')(x)\n",
    "    tower_1 = Conv2D(64, (3, tower_1.shape[2].value), padding='valid', activation='relu')(tower_1)\n",
    "\n",
    "    tower_2 = Conv2D(64, (1, x.shape[2].value), padding='valid', activation='relu')(x)\n",
    "    tower_2 = Conv2D(64, (5, tower_2.shape[2].value), padding='valid', activation='relu')(tower_2)\n",
    "\n",
    "    tower_3 = MaxPooling2D((3, 1), strides=(1, 1), padding='valid')(x)\n",
    "    tower_3 = Conv2D(64, (1, tower_3.shape[2].value), padding='valid', activation='relu')(tower_3)\n",
    "    \n",
    "    tower_4 = Conv2D(64, (1, x.shape[2].value), padding='valid', activation='relu')(x)\n",
    "\n",
    "    print(tower_1.shape)\n",
    "    print(tower_2.shape)\n",
    "    print(tower_3.shape)\n",
    "    print(tower_4.shape)\n",
    "    \n",
    "    return concatenate([tower_1, tower_2, tower_3, tower_4], axis=1)"
   ]
  },
  {
   "cell_type": "code",
   "execution_count": 31,
   "metadata": {
    "scrolled": true
   },
   "outputs": [],
   "source": [
    "def create_model(X, y):\n",
    "    windowsize = X.shape[1]\n",
    "    feature_len = X.shape[2]\n",
    "\n",
    "    inputs = Input((windowsize, feature_len, 1, ))\n",
    "    x = InceptionModule(inputs)\n",
    "    x = Flatten()(inputs)\n",
    "    x = Dense(200, activation=\"relu\")(x)\n",
    "    x = Dense(y.shape[1], activation=\"softmax\")(x)\n",
    "    outputs = x\n",
    "\n",
    "    model = Model(inputs=inputs, outputs=outputs)\n",
    "\n",
    "    model.compile(optimizer='rmsprop',\n",
    "                  loss='categorical_crossentropy',\n",
    "                  metrics=['accuracy'])\n",
    "    \n",
    "    return model\n",
    "\n",
    "\n",
    "def evaluate_model(model, X_test, y_test):\n",
    "    loss, metric = model.evaluate(X_test,y_test)\n",
    "    y_pred = model.predict(X_test)\n",
    "    cm = confusion_matrix(y_test.argmax(axis=1), y_pred.argmax(axis=1))\n",
    "    \n",
    "    print(\"\\nLoss: {} \\nMetric: {}\".format(loss, metric))\n",
    "    print(\"\\nConfusion Matrix:\")\n",
    "    for row in cm:\n",
    "        print(row)"
   ]
  },
  {
   "cell_type": "code",
   "execution_count": null,
   "metadata": {},
   "outputs": [],
   "source": [
    "def get_dummy_data():\n",
    "    X_a = np.ones((1000, 100, 146, 1))\n",
    "    y_a = np.array([[1,0]]*X_a.shape[0])\n",
    "\n",
    "    X_b = np.zeros((1000, 100, 146, 1))\n",
    "    y_b = np.array([[0,1]]*X_b.shape[0])\n",
    "\n",
    "    X = np.vstack((X_a,X_b))\n",
    "    y = np.concatenate((y_a,y_b))\n",
    "\n",
    "    return train_test_split(X, y, test_size=0.33, random_state=42, stratify=y)"
   ]
  },
  {
   "cell_type": "code",
   "execution_count": null,
   "metadata": {
    "scrolled": false
   },
   "outputs": [],
   "source": [
    "X_train, X_test, y_train, y_test = get_data([\"wells\", \"chesterton\"])"
   ]
  },
  {
   "cell_type": "code",
   "execution_count": 32,
   "metadata": {},
   "outputs": [
    {
     "name": "stdout",
     "output_type": "stream",
     "text": [
      "35536/35536 [==============================] - ETA:  - ETA:  - ETA:  - ETA:  - ETA:  - ETA:  - ETA:  - ETA:  - ETA:  - ETA:  - ETA:  - ETA:  - ETA:  - ETA:  - ETA:  - ETA:  - ETA:  - ETA:  - ETA:  - ETA:  - ETA:  - ETA:  - ETA:  - ETA:  - ETA:  - ETA:  - ETA:  - ETA:  - ETA:  - ETA:  - ETA:  - ETA:  - ETA:  - ETA:  - ETA:  - ETA:  - ETA:  - ETA:  - ETA:  - ETA:  - ETA:  - ETA:  - ETA:  - ETA:  - ETA:  - ETA:  - ETA:  - ETA:  - ETA:  - ETA:  - ETA:  - ETA:  - ETA:  - ETA:  - ETA:  - ETA:  - ETA:  - ETA:  - ETA:  - ETA:  - ETA:  - ETA:  - ETA:  - ETA:  - ETA:  - ETA:  - ETA:  - ETA:  - ETA:  - ETA:  - ETA:  - ETA:  - ETA:  - ETA:  - ETA:  - ETA:  - ETA:  - ETA:  - ETA:  - ETA:  - ETA:  - ETA:  - ETA:  - ETA:  - ETA:  - ETA:  - ETA:  - ETA:  - ETA:  - ETA:  - ETA:  - ETA:  - ETA:  - ETA:  - ETA:  - ETA:  - ETA:  - 5s 148us/step\n",
      "\n",
      "Loss: 0.4611561948358878 \n",
      "Metric: 0.7870610085547051\n",
      "\n",
      "Confusion Matrix:\n",
      "[19811  2860]\n",
      "[4707 8158]\n"
     ]
    }
   ],
   "source": [
    "#model = create_model(X_train, y_train)\n",
    "#model.fit(X_train, y_train, epochs=1, validation_split=.2, batch_size=32)\n",
    "evaluate_model(model, X_test, y_test)"
   ]
  }
 ],
 "metadata": {
  "kernelspec": {
   "display_name": "Python 3",
   "language": "python",
   "name": "python3"
  },
  "language_info": {
   "codemirror_mode": {
    "name": "ipython",
    "version": 3
   },
   "file_extension": ".py",
   "mimetype": "text/x-python",
   "name": "python",
   "nbconvert_exporter": "python",
   "pygments_lexer": "ipython3",
   "version": "3.6.0"
  }
 },
 "nbformat": 4,
 "nbformat_minor": 2
}
